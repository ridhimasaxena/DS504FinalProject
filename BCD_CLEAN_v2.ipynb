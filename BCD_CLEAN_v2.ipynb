{
 "cells": [
  {
   "cell_type": "code",
   "execution_count": 1,
   "metadata": {},
   "outputs": [],
   "source": [
    "import pandas as pd\n",
    "import numpy as np\n",
    "import seaborn as sns"
   ]
  },
  {
   "cell_type": "code",
   "execution_count": 2,
   "metadata": {},
   "outputs": [
    {
     "name": "stderr",
     "output_type": "stream",
     "text": [
      "/Users/ridhimasaxena/opt/anaconda3/lib/python3.8/site-packages/IPython/core/interactiveshell.py:3071: DtypeWarning: Columns (1,3,7,13) have mixed types.Specify dtype option on import or set low_memory=False.\n",
      "  has_raised = await self.run_ast_nodes(code_ast.body, cell_name,\n"
     ]
    }
   ],
   "source": [
    "data = pd.read_csv(\"/Users/ridhimasaxena/Desktop/BigDataAnalytics/FinalProject/BCD_filtered.csv\")"
   ]
  },
  {
   "cell_type": "code",
   "execution_count": 3,
   "metadata": {},
   "outputs": [
    {
     "data": {
      "text/plain": [
       "(518158, 18)"
      ]
     },
     "execution_count": 3,
     "metadata": {},
     "output_type": "execute_result"
    }
   ],
   "source": [
    "data.shape"
   ]
  },
  {
   "cell_type": "code",
   "execution_count": 4,
   "metadata": {},
   "outputs": [
    {
     "data": {
      "text/html": [
       "<div>\n",
       "<style scoped>\n",
       "    .dataframe tbody tr th:only-of-type {\n",
       "        vertical-align: middle;\n",
       "    }\n",
       "\n",
       "    .dataframe tbody tr th {\n",
       "        vertical-align: top;\n",
       "    }\n",
       "\n",
       "    .dataframe thead th {\n",
       "        text-align: right;\n",
       "    }\n",
       "</style>\n",
       "<table border=\"1\" class=\"dataframe\">\n",
       "  <thead>\n",
       "    <tr style=\"text-align: right;\">\n",
       "      <th></th>\n",
       "      <th>Unnamed: 0</th>\n",
       "      <th>OFFENSE_CODE</th>\n",
       "      <th>REPORTING_AREA</th>\n",
       "      <th>YEAR</th>\n",
       "      <th>MONTH</th>\n",
       "      <th>HOUR</th>\n",
       "      <th>Lat</th>\n",
       "      <th>Long</th>\n",
       "    </tr>\n",
       "  </thead>\n",
       "  <tbody>\n",
       "    <tr>\n",
       "      <th>count</th>\n",
       "      <td>518158.000000</td>\n",
       "      <td>518158.000000</td>\n",
       "      <td>479079.000000</td>\n",
       "      <td>518158.000000</td>\n",
       "      <td>518158.000000</td>\n",
       "      <td>518158.000000</td>\n",
       "      <td>488947.000000</td>\n",
       "      <td>488947.000000</td>\n",
       "    </tr>\n",
       "    <tr>\n",
       "      <th>mean</th>\n",
       "      <td>259079.500000</td>\n",
       "      <td>2332.967307</td>\n",
       "      <td>385.207181</td>\n",
       "      <td>2017.557511</td>\n",
       "      <td>6.647885</td>\n",
       "      <td>13.078422</td>\n",
       "      <td>42.239550</td>\n",
       "      <td>-70.950193</td>\n",
       "    </tr>\n",
       "    <tr>\n",
       "      <th>std</th>\n",
       "      <td>149579.474728</td>\n",
       "      <td>1182.585591</td>\n",
       "      <td>241.033280</td>\n",
       "      <td>1.550265</td>\n",
       "      <td>3.313055</td>\n",
       "      <td>6.348057</td>\n",
       "      <td>1.885772</td>\n",
       "      <td>3.050510</td>\n",
       "    </tr>\n",
       "    <tr>\n",
       "      <th>min</th>\n",
       "      <td>1.000000</td>\n",
       "      <td>111.000000</td>\n",
       "      <td>0.000000</td>\n",
       "      <td>2015.000000</td>\n",
       "      <td>1.000000</td>\n",
       "      <td>0.000000</td>\n",
       "      <td>-1.000000</td>\n",
       "      <td>-71.203312</td>\n",
       "    </tr>\n",
       "    <tr>\n",
       "      <th>25%</th>\n",
       "      <td>129540.250000</td>\n",
       "      <td>1102.000000</td>\n",
       "      <td>179.000000</td>\n",
       "      <td>2016.000000</td>\n",
       "      <td>4.000000</td>\n",
       "      <td>9.000000</td>\n",
       "      <td>42.296852</td>\n",
       "      <td>-71.097465</td>\n",
       "    </tr>\n",
       "    <tr>\n",
       "      <th>50%</th>\n",
       "      <td>259079.500000</td>\n",
       "      <td>3005.000000</td>\n",
       "      <td>347.000000</td>\n",
       "      <td>2018.000000</td>\n",
       "      <td>7.000000</td>\n",
       "      <td>14.000000</td>\n",
       "      <td>42.325029</td>\n",
       "      <td>-71.077734</td>\n",
       "    </tr>\n",
       "    <tr>\n",
       "      <th>75%</th>\n",
       "      <td>388618.750000</td>\n",
       "      <td>3201.000000</td>\n",
       "      <td>541.000000</td>\n",
       "      <td>2019.000000</td>\n",
       "      <td>9.000000</td>\n",
       "      <td>18.000000</td>\n",
       "      <td>42.348294</td>\n",
       "      <td>-71.062562</td>\n",
       "    </tr>\n",
       "    <tr>\n",
       "      <th>max</th>\n",
       "      <td>518158.000000</td>\n",
       "      <td>3831.000000</td>\n",
       "      <td>962.000000</td>\n",
       "      <td>2020.000000</td>\n",
       "      <td>12.000000</td>\n",
       "      <td>23.000000</td>\n",
       "      <td>42.395042</td>\n",
       "      <td>0.000000</td>\n",
       "    </tr>\n",
       "  </tbody>\n",
       "</table>\n",
       "</div>"
      ],
      "text/plain": [
       "          Unnamed: 0   OFFENSE_CODE  REPORTING_AREA           YEAR  \\\n",
       "count  518158.000000  518158.000000   479079.000000  518158.000000   \n",
       "mean   259079.500000    2332.967307      385.207181    2017.557511   \n",
       "std    149579.474728    1182.585591      241.033280       1.550265   \n",
       "min         1.000000     111.000000        0.000000    2015.000000   \n",
       "25%    129540.250000    1102.000000      179.000000    2016.000000   \n",
       "50%    259079.500000    3005.000000      347.000000    2018.000000   \n",
       "75%    388618.750000    3201.000000      541.000000    2019.000000   \n",
       "max    518158.000000    3831.000000      962.000000    2020.000000   \n",
       "\n",
       "               MONTH           HOUR            Lat           Long  \n",
       "count  518158.000000  518158.000000  488947.000000  488947.000000  \n",
       "mean        6.647885      13.078422      42.239550     -70.950193  \n",
       "std         3.313055       6.348057       1.885772       3.050510  \n",
       "min         1.000000       0.000000      -1.000000     -71.203312  \n",
       "25%         4.000000       9.000000      42.296852     -71.097465  \n",
       "50%         7.000000      14.000000      42.325029     -71.077734  \n",
       "75%         9.000000      18.000000      42.348294     -71.062562  \n",
       "max        12.000000      23.000000      42.395042       0.000000  "
      ]
     },
     "execution_count": 4,
     "metadata": {},
     "output_type": "execute_result"
    }
   ],
   "source": [
    "data.describe()"
   ]
  },
  {
   "cell_type": "code",
   "execution_count": 5,
   "metadata": {},
   "outputs": [
    {
     "data": {
      "text/plain": [
       "Index(['Unnamed: 0', 'INCIDENT_NUMBER', 'OFFENSE_CODE', 'OFFENSE_CODE_GROUP',\n",
       "       'OFFENSE_DESCRIPTION', 'DISTRICT', 'REPORTING_AREA', 'SHOOTING',\n",
       "       'OCCURRED_ON_DATE', 'YEAR', 'MONTH', 'DAY_OF_WEEK', 'HOUR', 'UCR_PART',\n",
       "       'STREET', 'Lat', 'Long', 'Location'],\n",
       "      dtype='object')"
      ]
     },
     "execution_count": 5,
     "metadata": {},
     "output_type": "execute_result"
    }
   ],
   "source": [
    "data.columns"
   ]
  },
  {
   "cell_type": "code",
   "execution_count": 6,
   "metadata": {},
   "outputs": [
    {
     "data": {
      "text/plain": [
       "Unnamed: 0             518158\n",
       "INCIDENT_NUMBER        466907\n",
       "OFFENSE_CODE              234\n",
       "OFFENSE_CODE_GROUP         67\n",
       "OFFENSE_DESCRIPTION       280\n",
       "DISTRICT                   13\n",
       "REPORTING_AREA            879\n",
       "SHOOTING                    4\n",
       "OCCURRED_ON_DATE       380677\n",
       "YEAR                        6\n",
       "MONTH                      12\n",
       "DAY_OF_WEEK                 7\n",
       "HOUR                       24\n",
       "UCR_PART                    4\n",
       "STREET                   5379\n",
       "Lat                     31184\n",
       "Long                    31031\n",
       "Location                31973\n",
       "dtype: int64"
      ]
     },
     "execution_count": 6,
     "metadata": {},
     "output_type": "execute_result"
    }
   ],
   "source": [
    "data.nunique()"
   ]
  },
  {
   "cell_type": "code",
   "execution_count": 7,
   "metadata": {},
   "outputs": [
    {
     "data": {
      "text/plain": [
       "array(['0', nan, 'Y', 0.0, 1.0], dtype=object)"
      ]
     },
     "execution_count": 7,
     "metadata": {},
     "output_type": "execute_result"
    }
   ],
   "source": [
    "data['SHOOTING'].unique()"
   ]
  },
  {
   "cell_type": "code",
   "execution_count": 10,
   "metadata": {},
   "outputs": [],
   "source": [
    "data['SHOOTING'].replace('0','N', inplace =True)\n"
   ]
  },
  {
   "cell_type": "code",
   "execution_count": 13,
   "metadata": {},
   "outputs": [
    {
     "data": {
      "text/plain": [
       "array(['N', nan, 'Y', 0.0, 1.0], dtype=object)"
      ]
     },
     "execution_count": 13,
     "metadata": {},
     "output_type": "execute_result"
    }
   ],
   "source": [
    "data['SHOOTING'].unique()\n"
   ]
  },
  {
   "cell_type": "code",
   "execution_count": 15,
   "metadata": {},
   "outputs": [],
   "source": [
    "data['SHOOTING'].replace(0.0,'N', inplace =True)"
   ]
  },
  {
   "cell_type": "code",
   "execution_count": 16,
   "metadata": {},
   "outputs": [
    {
     "data": {
      "text/plain": [
       "array(['N', nan, 'Y', 1.0], dtype=object)"
      ]
     },
     "execution_count": 16,
     "metadata": {},
     "output_type": "execute_result"
    }
   ],
   "source": [
    "data['SHOOTING'].unique()"
   ]
  },
  {
   "cell_type": "code",
   "execution_count": 17,
   "metadata": {},
   "outputs": [],
   "source": [
    "data['SHOOTING'].replace(1.0,'Y', inplace =True)"
   ]
  },
  {
   "cell_type": "code",
   "execution_count": 19,
   "metadata": {},
   "outputs": [],
   "source": [
    "data['SHOOTING'].replace(np.nan,'UNK', inplace =True)"
   ]
  },
  {
   "cell_type": "code",
   "execution_count": 20,
   "metadata": {},
   "outputs": [
    {
     "data": {
      "text/plain": [
       "array(['N', 'UNK', 'Y'], dtype=object)"
      ]
     },
     "execution_count": 20,
     "metadata": {},
     "output_type": "execute_result"
    }
   ],
   "source": [
    "data['SHOOTING'].unique()"
   ]
  },
  {
   "cell_type": "code",
   "execution_count": 21,
   "metadata": {},
   "outputs": [
    {
     "data": {
      "text/plain": [
       "Unnamed: 0                 0\n",
       "INCIDENT_NUMBER            0\n",
       "OFFENSE_CODE               0\n",
       "OFFENSE_CODE_GROUP     91319\n",
       "OFFENSE_DESCRIPTION        0\n",
       "DISTRICT                2449\n",
       "REPORTING_AREA         39079\n",
       "SHOOTING                   0\n",
       "OCCURRED_ON_DATE           0\n",
       "YEAR                       0\n",
       "MONTH                      0\n",
       "DAY_OF_WEEK                0\n",
       "HOUR                       0\n",
       "UCR_PART               91429\n",
       "STREET                 20561\n",
       "Lat                    29211\n",
       "Long                   29211\n",
       "Location                   0\n",
       "dtype: int64"
      ]
     },
     "execution_count": 21,
     "metadata": {},
     "output_type": "execute_result"
    }
   ],
   "source": [
    "#Cleaning the data\n",
    "data.isnull().sum()"
   ]
  },
  {
   "cell_type": "code",
   "execution_count": 22,
   "metadata": {},
   "outputs": [],
   "source": [
    "##Drop unnecessary columns\n",
    "\n",
    "crime = data.drop(['OFFENSE_CODE_GROUP', 'REPORTING_AREA','UCR_PART'], axis =1)"
   ]
  },
  {
   "cell_type": "code",
   "execution_count": 25,
   "metadata": {},
   "outputs": [
    {
     "data": {
      "text/html": [
       "<div>\n",
       "<style scoped>\n",
       "    .dataframe tbody tr th:only-of-type {\n",
       "        vertical-align: middle;\n",
       "    }\n",
       "\n",
       "    .dataframe tbody tr th {\n",
       "        vertical-align: top;\n",
       "    }\n",
       "\n",
       "    .dataframe thead th {\n",
       "        text-align: right;\n",
       "    }\n",
       "</style>\n",
       "<table border=\"1\" class=\"dataframe\">\n",
       "  <thead>\n",
       "    <tr style=\"text-align: right;\">\n",
       "      <th></th>\n",
       "      <th>Unnamed: 0</th>\n",
       "      <th>INCIDENT_NUMBER</th>\n",
       "      <th>OFFENSE_CODE</th>\n",
       "      <th>OFFENSE_DESCRIPTION</th>\n",
       "      <th>DISTRICT</th>\n",
       "      <th>SHOOTING</th>\n",
       "      <th>OCCURRED_ON_DATE</th>\n",
       "      <th>YEAR</th>\n",
       "      <th>MONTH</th>\n",
       "      <th>DAY_OF_WEEK</th>\n",
       "      <th>HOUR</th>\n",
       "      <th>STREET</th>\n",
       "      <th>Lat</th>\n",
       "      <th>Long</th>\n",
       "      <th>Location</th>\n",
       "    </tr>\n",
       "  </thead>\n",
       "  <tbody>\n",
       "    <tr>\n",
       "      <th>0</th>\n",
       "      <td>1</td>\n",
       "      <td>TESTTEST2</td>\n",
       "      <td>423</td>\n",
       "      <td>ASSAULT - AGGRAVATED</td>\n",
       "      <td>External</td>\n",
       "      <td>N</td>\n",
       "      <td>10/16/19 0:00</td>\n",
       "      <td>2019</td>\n",
       "      <td>10</td>\n",
       "      <td>Wednesday</td>\n",
       "      <td>0</td>\n",
       "      <td>RIVERVIEW DR</td>\n",
       "      <td>NaN</td>\n",
       "      <td>NaN</td>\n",
       "      <td>(0.00000000, 0.00000000)</td>\n",
       "    </tr>\n",
       "    <tr>\n",
       "      <th>1</th>\n",
       "      <td>2</td>\n",
       "      <td>S97333701</td>\n",
       "      <td>3301</td>\n",
       "      <td>VERBAL DISPUTE</td>\n",
       "      <td>C6</td>\n",
       "      <td>N</td>\n",
       "      <td>7/18/20 14:34</td>\n",
       "      <td>2020</td>\n",
       "      <td>7</td>\n",
       "      <td>Saturday</td>\n",
       "      <td>14</td>\n",
       "      <td>MARY BOYLE WAY</td>\n",
       "      <td>42.330813</td>\n",
       "      <td>-71.051368</td>\n",
       "      <td>(42.33081300, -71.05136800)</td>\n",
       "    </tr>\n",
       "    <tr>\n",
       "      <th>2</th>\n",
       "      <td>3</td>\n",
       "      <td>S47513131</td>\n",
       "      <td>2647</td>\n",
       "      <td>THREATS TO DO BODILY HARM</td>\n",
       "      <td>E18</td>\n",
       "      <td>N</td>\n",
       "      <td>6/24/20 10:15</td>\n",
       "      <td>2020</td>\n",
       "      <td>6</td>\n",
       "      <td>Wednesday</td>\n",
       "      <td>10</td>\n",
       "      <td>READVILLE ST</td>\n",
       "      <td>42.239491</td>\n",
       "      <td>-71.135954</td>\n",
       "      <td>(42.23949100, -71.13595400)</td>\n",
       "    </tr>\n",
       "    <tr>\n",
       "      <th>3</th>\n",
       "      <td>4</td>\n",
       "      <td>I92102201</td>\n",
       "      <td>3301</td>\n",
       "      <td>VERBAL DISPUTE</td>\n",
       "      <td>E13</td>\n",
       "      <td>N</td>\n",
       "      <td>12/20/19 3:08</td>\n",
       "      <td>2019</td>\n",
       "      <td>12</td>\n",
       "      <td>Friday</td>\n",
       "      <td>3</td>\n",
       "      <td>DAY ST</td>\n",
       "      <td>42.325122</td>\n",
       "      <td>-71.107779</td>\n",
       "      <td>(42.32512200, -71.10777900)</td>\n",
       "    </tr>\n",
       "    <tr>\n",
       "      <th>4</th>\n",
       "      <td>5</td>\n",
       "      <td>I92097173</td>\n",
       "      <td>3115</td>\n",
       "      <td>INVESTIGATE PERSON</td>\n",
       "      <td>C11</td>\n",
       "      <td>N</td>\n",
       "      <td>10/23/19 0:00</td>\n",
       "      <td>2019</td>\n",
       "      <td>10</td>\n",
       "      <td>Wednesday</td>\n",
       "      <td>0</td>\n",
       "      <td>GIBSON ST</td>\n",
       "      <td>42.297555</td>\n",
       "      <td>-71.059709</td>\n",
       "      <td>(42.29755500, -71.05970900)</td>\n",
       "    </tr>\n",
       "  </tbody>\n",
       "</table>\n",
       "</div>"
      ],
      "text/plain": [
       "   Unnamed: 0 INCIDENT_NUMBER  OFFENSE_CODE        OFFENSE_DESCRIPTION  \\\n",
       "0           1       TESTTEST2           423       ASSAULT - AGGRAVATED   \n",
       "1           2       S97333701          3301             VERBAL DISPUTE   \n",
       "2           3       S47513131          2647  THREATS TO DO BODILY HARM   \n",
       "3           4       I92102201          3301             VERBAL DISPUTE   \n",
       "4           5       I92097173          3115         INVESTIGATE PERSON   \n",
       "\n",
       "   DISTRICT SHOOTING OCCURRED_ON_DATE  YEAR  MONTH DAY_OF_WEEK  HOUR  \\\n",
       "0  External        N    10/16/19 0:00  2019     10   Wednesday     0   \n",
       "1        C6        N    7/18/20 14:34  2020      7    Saturday    14   \n",
       "2       E18        N    6/24/20 10:15  2020      6   Wednesday    10   \n",
       "3       E13        N    12/20/19 3:08  2019     12      Friday     3   \n",
       "4       C11        N    10/23/19 0:00  2019     10   Wednesday     0   \n",
       "\n",
       "           STREET        Lat       Long                     Location  \n",
       "0    RIVERVIEW DR        NaN        NaN     (0.00000000, 0.00000000)  \n",
       "1  MARY BOYLE WAY  42.330813 -71.051368  (42.33081300, -71.05136800)  \n",
       "2    READVILLE ST  42.239491 -71.135954  (42.23949100, -71.13595400)  \n",
       "3          DAY ST  42.325122 -71.107779  (42.32512200, -71.10777900)  \n",
       "4       GIBSON ST  42.297555 -71.059709  (42.29755500, -71.05970900)  "
      ]
     },
     "execution_count": 25,
     "metadata": {},
     "output_type": "execute_result"
    }
   ],
   "source": [
    "crime.head()"
   ]
  },
  {
   "cell_type": "code",
   "execution_count": 28,
   "metadata": {},
   "outputs": [
    {
     "data": {
      "text/plain": [
       "(518158, 15)"
      ]
     },
     "execution_count": 28,
     "metadata": {},
     "output_type": "execute_result"
    }
   ],
   "source": [
    "crime.shape"
   ]
  },
  {
   "cell_type": "code",
   "execution_count": 29,
   "metadata": {},
   "outputs": [
    {
     "data": {
      "text/html": [
       "<div>\n",
       "<style scoped>\n",
       "    .dataframe tbody tr th:only-of-type {\n",
       "        vertical-align: middle;\n",
       "    }\n",
       "\n",
       "    .dataframe tbody tr th {\n",
       "        vertical-align: top;\n",
       "    }\n",
       "\n",
       "    .dataframe thead th {\n",
       "        text-align: right;\n",
       "    }\n",
       "</style>\n",
       "<table border=\"1\" class=\"dataframe\">\n",
       "  <thead>\n",
       "    <tr style=\"text-align: right;\">\n",
       "      <th></th>\n",
       "      <th>Unnamed: 0</th>\n",
       "      <th>OFFENSE_CODE</th>\n",
       "      <th>REPORTING_AREA</th>\n",
       "      <th>YEAR</th>\n",
       "      <th>MONTH</th>\n",
       "      <th>HOUR</th>\n",
       "      <th>Lat</th>\n",
       "      <th>Long</th>\n",
       "    </tr>\n",
       "  </thead>\n",
       "  <tbody>\n",
       "    <tr>\n",
       "      <th>count</th>\n",
       "      <td>518158.000000</td>\n",
       "      <td>518158.000000</td>\n",
       "      <td>479079.000000</td>\n",
       "      <td>518158.000000</td>\n",
       "      <td>518158.000000</td>\n",
       "      <td>518158.000000</td>\n",
       "      <td>488947.000000</td>\n",
       "      <td>488947.000000</td>\n",
       "    </tr>\n",
       "    <tr>\n",
       "      <th>mean</th>\n",
       "      <td>259079.500000</td>\n",
       "      <td>2332.967307</td>\n",
       "      <td>385.207181</td>\n",
       "      <td>2017.557511</td>\n",
       "      <td>6.647885</td>\n",
       "      <td>13.078422</td>\n",
       "      <td>42.239550</td>\n",
       "      <td>-70.950193</td>\n",
       "    </tr>\n",
       "    <tr>\n",
       "      <th>std</th>\n",
       "      <td>149579.474728</td>\n",
       "      <td>1182.585591</td>\n",
       "      <td>241.033280</td>\n",
       "      <td>1.550265</td>\n",
       "      <td>3.313055</td>\n",
       "      <td>6.348057</td>\n",
       "      <td>1.885772</td>\n",
       "      <td>3.050510</td>\n",
       "    </tr>\n",
       "    <tr>\n",
       "      <th>min</th>\n",
       "      <td>1.000000</td>\n",
       "      <td>111.000000</td>\n",
       "      <td>0.000000</td>\n",
       "      <td>2015.000000</td>\n",
       "      <td>1.000000</td>\n",
       "      <td>0.000000</td>\n",
       "      <td>-1.000000</td>\n",
       "      <td>-71.203312</td>\n",
       "    </tr>\n",
       "    <tr>\n",
       "      <th>25%</th>\n",
       "      <td>129540.250000</td>\n",
       "      <td>1102.000000</td>\n",
       "      <td>179.000000</td>\n",
       "      <td>2016.000000</td>\n",
       "      <td>4.000000</td>\n",
       "      <td>9.000000</td>\n",
       "      <td>42.296852</td>\n",
       "      <td>-71.097465</td>\n",
       "    </tr>\n",
       "    <tr>\n",
       "      <th>50%</th>\n",
       "      <td>259079.500000</td>\n",
       "      <td>3005.000000</td>\n",
       "      <td>347.000000</td>\n",
       "      <td>2018.000000</td>\n",
       "      <td>7.000000</td>\n",
       "      <td>14.000000</td>\n",
       "      <td>42.325029</td>\n",
       "      <td>-71.077734</td>\n",
       "    </tr>\n",
       "    <tr>\n",
       "      <th>75%</th>\n",
       "      <td>388618.750000</td>\n",
       "      <td>3201.000000</td>\n",
       "      <td>541.000000</td>\n",
       "      <td>2019.000000</td>\n",
       "      <td>9.000000</td>\n",
       "      <td>18.000000</td>\n",
       "      <td>42.348294</td>\n",
       "      <td>-71.062562</td>\n",
       "    </tr>\n",
       "    <tr>\n",
       "      <th>max</th>\n",
       "      <td>518158.000000</td>\n",
       "      <td>3831.000000</td>\n",
       "      <td>962.000000</td>\n",
       "      <td>2020.000000</td>\n",
       "      <td>12.000000</td>\n",
       "      <td>23.000000</td>\n",
       "      <td>42.395042</td>\n",
       "      <td>0.000000</td>\n",
       "    </tr>\n",
       "  </tbody>\n",
       "</table>\n",
       "</div>"
      ],
      "text/plain": [
       "          Unnamed: 0   OFFENSE_CODE  REPORTING_AREA           YEAR  \\\n",
       "count  518158.000000  518158.000000   479079.000000  518158.000000   \n",
       "mean   259079.500000    2332.967307      385.207181    2017.557511   \n",
       "std    149579.474728    1182.585591      241.033280       1.550265   \n",
       "min         1.000000     111.000000        0.000000    2015.000000   \n",
       "25%    129540.250000    1102.000000      179.000000    2016.000000   \n",
       "50%    259079.500000    3005.000000      347.000000    2018.000000   \n",
       "75%    388618.750000    3201.000000      541.000000    2019.000000   \n",
       "max    518158.000000    3831.000000      962.000000    2020.000000   \n",
       "\n",
       "               MONTH           HOUR            Lat           Long  \n",
       "count  518158.000000  518158.000000  488947.000000  488947.000000  \n",
       "mean        6.647885      13.078422      42.239550     -70.950193  \n",
       "std         3.313055       6.348057       1.885772       3.050510  \n",
       "min         1.000000       0.000000      -1.000000     -71.203312  \n",
       "25%         4.000000       9.000000      42.296852     -71.097465  \n",
       "50%         7.000000      14.000000      42.325029     -71.077734  \n",
       "75%         9.000000      18.000000      42.348294     -71.062562  \n",
       "max        12.000000      23.000000      42.395042       0.000000  "
      ]
     },
     "execution_count": 29,
     "metadata": {},
     "output_type": "execute_result"
    }
   ],
   "source": [
    "data.describe()"
   ]
  },
  {
   "cell_type": "code",
   "execution_count": 30,
   "metadata": {},
   "outputs": [
    {
     "data": {
      "text/plain": [
       "Index(['Unnamed: 0', 'INCIDENT_NUMBER', 'OFFENSE_CODE', 'OFFENSE_CODE_GROUP',\n",
       "       'OFFENSE_DESCRIPTION', 'DISTRICT', 'REPORTING_AREA', 'SHOOTING',\n",
       "       'OCCURRED_ON_DATE', 'YEAR', 'MONTH', 'DAY_OF_WEEK', 'HOUR', 'UCR_PART',\n",
       "       'STREET', 'Lat', 'Long', 'Location'],\n",
       "      dtype='object')"
      ]
     },
     "execution_count": 30,
     "metadata": {},
     "output_type": "execute_result"
    }
   ],
   "source": [
    "data.columns"
   ]
  },
  {
   "cell_type": "code",
   "execution_count": 31,
   "metadata": {},
   "outputs": [
    {
     "data": {
      "text/plain": [
       "Index(['Unnamed: 0', 'INCIDENT_NUMBER', 'OFFENSE_CODE', 'OFFENSE_DESCRIPTION',\n",
       "       'DISTRICT', 'SHOOTING', 'OCCURRED_ON_DATE', 'YEAR', 'MONTH',\n",
       "       'DAY_OF_WEEK', 'HOUR', 'STREET', 'Lat', 'Long', 'Location'],\n",
       "      dtype='object')"
      ]
     },
     "execution_count": 31,
     "metadata": {},
     "output_type": "execute_result"
    }
   ],
   "source": [
    "crime.columns"
   ]
  },
  {
   "cell_type": "code",
   "execution_count": 32,
   "metadata": {},
   "outputs": [
    {
     "data": {
      "text/plain": [
       "(518158, 18)"
      ]
     },
     "execution_count": 32,
     "metadata": {},
     "output_type": "execute_result"
    }
   ],
   "source": [
    "data.shape"
   ]
  },
  {
   "cell_type": "code",
   "execution_count": 33,
   "metadata": {},
   "outputs": [
    {
     "data": {
      "text/html": [
       "<div>\n",
       "<style scoped>\n",
       "    .dataframe tbody tr th:only-of-type {\n",
       "        vertical-align: middle;\n",
       "    }\n",
       "\n",
       "    .dataframe tbody tr th {\n",
       "        vertical-align: top;\n",
       "    }\n",
       "\n",
       "    .dataframe thead th {\n",
       "        text-align: right;\n",
       "    }\n",
       "</style>\n",
       "<table border=\"1\" class=\"dataframe\">\n",
       "  <thead>\n",
       "    <tr style=\"text-align: right;\">\n",
       "      <th></th>\n",
       "      <th>Unnamed: 0</th>\n",
       "      <th>INCIDENT_NUMBER</th>\n",
       "      <th>OFFENSE_CODE</th>\n",
       "      <th>OFFENSE_DESCRIPTION</th>\n",
       "      <th>DISTRICT</th>\n",
       "      <th>SHOOTING</th>\n",
       "      <th>OCCURRED_ON_DATE</th>\n",
       "      <th>YEAR</th>\n",
       "      <th>MONTH</th>\n",
       "      <th>DAY_OF_WEEK</th>\n",
       "      <th>HOUR</th>\n",
       "      <th>STREET</th>\n",
       "      <th>Lat</th>\n",
       "      <th>Long</th>\n",
       "      <th>Location</th>\n",
       "    </tr>\n",
       "  </thead>\n",
       "  <tbody>\n",
       "    <tr>\n",
       "      <th>1</th>\n",
       "      <td>2</td>\n",
       "      <td>S97333701</td>\n",
       "      <td>3301</td>\n",
       "      <td>VERBAL DISPUTE</td>\n",
       "      <td>C6</td>\n",
       "      <td>N</td>\n",
       "      <td>7/18/20 14:34</td>\n",
       "      <td>2020</td>\n",
       "      <td>7</td>\n",
       "      <td>Saturday</td>\n",
       "      <td>14</td>\n",
       "      <td>MARY BOYLE WAY</td>\n",
       "      <td>42.330813</td>\n",
       "      <td>-71.051368</td>\n",
       "      <td>(42.33081300, -71.05136800)</td>\n",
       "    </tr>\n",
       "    <tr>\n",
       "      <th>2</th>\n",
       "      <td>3</td>\n",
       "      <td>S47513131</td>\n",
       "      <td>2647</td>\n",
       "      <td>THREATS TO DO BODILY HARM</td>\n",
       "      <td>E18</td>\n",
       "      <td>N</td>\n",
       "      <td>6/24/20 10:15</td>\n",
       "      <td>2020</td>\n",
       "      <td>6</td>\n",
       "      <td>Wednesday</td>\n",
       "      <td>10</td>\n",
       "      <td>READVILLE ST</td>\n",
       "      <td>42.239491</td>\n",
       "      <td>-71.135954</td>\n",
       "      <td>(42.23949100, -71.13595400)</td>\n",
       "    </tr>\n",
       "    <tr>\n",
       "      <th>3</th>\n",
       "      <td>4</td>\n",
       "      <td>I92102201</td>\n",
       "      <td>3301</td>\n",
       "      <td>VERBAL DISPUTE</td>\n",
       "      <td>E13</td>\n",
       "      <td>N</td>\n",
       "      <td>12/20/19 3:08</td>\n",
       "      <td>2019</td>\n",
       "      <td>12</td>\n",
       "      <td>Friday</td>\n",
       "      <td>3</td>\n",
       "      <td>DAY ST</td>\n",
       "      <td>42.325122</td>\n",
       "      <td>-71.107779</td>\n",
       "      <td>(42.32512200, -71.10777900)</td>\n",
       "    </tr>\n",
       "    <tr>\n",
       "      <th>4</th>\n",
       "      <td>5</td>\n",
       "      <td>I92097173</td>\n",
       "      <td>3115</td>\n",
       "      <td>INVESTIGATE PERSON</td>\n",
       "      <td>C11</td>\n",
       "      <td>N</td>\n",
       "      <td>10/23/19 0:00</td>\n",
       "      <td>2019</td>\n",
       "      <td>10</td>\n",
       "      <td>Wednesday</td>\n",
       "      <td>0</td>\n",
       "      <td>GIBSON ST</td>\n",
       "      <td>42.297555</td>\n",
       "      <td>-71.059709</td>\n",
       "      <td>(42.29755500, -71.05970900)</td>\n",
       "    </tr>\n",
       "    <tr>\n",
       "      <th>5</th>\n",
       "      <td>6</td>\n",
       "      <td>I92094519</td>\n",
       "      <td>3126</td>\n",
       "      <td>WARRANT ARREST - OUTSIDE OF BOSTON WARRANT</td>\n",
       "      <td>D14</td>\n",
       "      <td>N</td>\n",
       "      <td>11/22/19 7:50</td>\n",
       "      <td>2019</td>\n",
       "      <td>11</td>\n",
       "      <td>Friday</td>\n",
       "      <td>7</td>\n",
       "      <td>BROOKS ST</td>\n",
       "      <td>42.355120</td>\n",
       "      <td>-71.162678</td>\n",
       "      <td>(42.35512000, -71.16267800)</td>\n",
       "    </tr>\n",
       "    <tr>\n",
       "      <th>...</th>\n",
       "      <td>...</td>\n",
       "      <td>...</td>\n",
       "      <td>...</td>\n",
       "      <td>...</td>\n",
       "      <td>...</td>\n",
       "      <td>...</td>\n",
       "      <td>...</td>\n",
       "      <td>...</td>\n",
       "      <td>...</td>\n",
       "      <td>...</td>\n",
       "      <td>...</td>\n",
       "      <td>...</td>\n",
       "      <td>...</td>\n",
       "      <td>...</td>\n",
       "      <td>...</td>\n",
       "    </tr>\n",
       "    <tr>\n",
       "      <th>518153</th>\n",
       "      <td>518154</td>\n",
       "      <td>20062356</td>\n",
       "      <td>1107</td>\n",
       "      <td>FRAUD - IMPERSONATION</td>\n",
       "      <td>E18</td>\n",
       "      <td>N</td>\n",
       "      <td>8/28/20 18:39</td>\n",
       "      <td>2020</td>\n",
       "      <td>8</td>\n",
       "      <td>Friday</td>\n",
       "      <td>18</td>\n",
       "      <td>HYDE PARK AVE</td>\n",
       "      <td>42.256215</td>\n",
       "      <td>-71.124019</td>\n",
       "      <td>(42.25621500, -71.12401900)</td>\n",
       "    </tr>\n",
       "    <tr>\n",
       "      <th>518154</th>\n",
       "      <td>518155</td>\n",
       "      <td>20054040</td>\n",
       "      <td>3501</td>\n",
       "      <td>MISSING PERSON</td>\n",
       "      <td>C11</td>\n",
       "      <td>N</td>\n",
       "      <td>7/30/20 15:30</td>\n",
       "      <td>2020</td>\n",
       "      <td>7</td>\n",
       "      <td>Thursday</td>\n",
       "      <td>15</td>\n",
       "      <td>GIBSON ST</td>\n",
       "      <td>42.297555</td>\n",
       "      <td>-71.059709</td>\n",
       "      <td>(42.29755500, -71.05970900)</td>\n",
       "    </tr>\n",
       "    <tr>\n",
       "      <th>518155</th>\n",
       "      <td>518156</td>\n",
       "      <td>20046400</td>\n",
       "      <td>1501</td>\n",
       "      <td>WEAPON VIOLATION - CARRY/ POSSESSING/ SALE/ TR...</td>\n",
       "      <td>B2</td>\n",
       "      <td>N</td>\n",
       "      <td>7/2/20 1:38</td>\n",
       "      <td>2020</td>\n",
       "      <td>7</td>\n",
       "      <td>Thursday</td>\n",
       "      <td>1</td>\n",
       "      <td>PASADENA RD</td>\n",
       "      <td>42.305760</td>\n",
       "      <td>-71.083771</td>\n",
       "      <td>(42.30576000, -71.08377100)</td>\n",
       "    </tr>\n",
       "    <tr>\n",
       "      <th>518156</th>\n",
       "      <td>518157</td>\n",
       "      <td>20038446</td>\n",
       "      <td>1501</td>\n",
       "      <td>WEAPON VIOLATION - CARRY/ POSSESSING/ SALE/ TR...</td>\n",
       "      <td>B2</td>\n",
       "      <td>N</td>\n",
       "      <td>6/3/20 1:15</td>\n",
       "      <td>2020</td>\n",
       "      <td>6</td>\n",
       "      <td>Wednesday</td>\n",
       "      <td>1</td>\n",
       "      <td>WASHINGTON ST</td>\n",
       "      <td>42.323807</td>\n",
       "      <td>-71.089150</td>\n",
       "      <td>(42.32380700, -71.08915000)</td>\n",
       "    </tr>\n",
       "    <tr>\n",
       "      <th>518157</th>\n",
       "      <td>518158</td>\n",
       "      <td>20030892</td>\n",
       "      <td>540</td>\n",
       "      <td>BURGLARY - COMMERICAL</td>\n",
       "      <td>C11</td>\n",
       "      <td>N</td>\n",
       "      <td>5/3/20 0:00</td>\n",
       "      <td>2020</td>\n",
       "      <td>5</td>\n",
       "      <td>Sunday</td>\n",
       "      <td>0</td>\n",
       "      <td>GALLIVAN BLVD</td>\n",
       "      <td>42.283700</td>\n",
       "      <td>-71.047761</td>\n",
       "      <td>(42.28370000, -71.04776100)</td>\n",
       "    </tr>\n",
       "  </tbody>\n",
       "</table>\n",
       "<p>488947 rows × 15 columns</p>\n",
       "</div>"
      ],
      "text/plain": [
       "        Unnamed: 0 INCIDENT_NUMBER  OFFENSE_CODE  \\\n",
       "1                2       S97333701          3301   \n",
       "2                3       S47513131          2647   \n",
       "3                4       I92102201          3301   \n",
       "4                5       I92097173          3115   \n",
       "5                6       I92094519          3126   \n",
       "...            ...             ...           ...   \n",
       "518153      518154        20062356          1107   \n",
       "518154      518155        20054040          3501   \n",
       "518155      518156        20046400          1501   \n",
       "518156      518157        20038446          1501   \n",
       "518157      518158        20030892           540   \n",
       "\n",
       "                                      OFFENSE_DESCRIPTION DISTRICT SHOOTING  \\\n",
       "1                                          VERBAL DISPUTE       C6        N   \n",
       "2                               THREATS TO DO BODILY HARM      E18        N   \n",
       "3                                          VERBAL DISPUTE      E13        N   \n",
       "4                                      INVESTIGATE PERSON      C11        N   \n",
       "5              WARRANT ARREST - OUTSIDE OF BOSTON WARRANT      D14        N   \n",
       "...                                                   ...      ...      ...   \n",
       "518153                              FRAUD - IMPERSONATION      E18        N   \n",
       "518154                                     MISSING PERSON      C11        N   \n",
       "518155  WEAPON VIOLATION - CARRY/ POSSESSING/ SALE/ TR...       B2        N   \n",
       "518156  WEAPON VIOLATION - CARRY/ POSSESSING/ SALE/ TR...       B2        N   \n",
       "518157                              BURGLARY - COMMERICAL      C11        N   \n",
       "\n",
       "       OCCURRED_ON_DATE  YEAR  MONTH DAY_OF_WEEK  HOUR          STREET  \\\n",
       "1         7/18/20 14:34  2020      7    Saturday    14  MARY BOYLE WAY   \n",
       "2         6/24/20 10:15  2020      6   Wednesday    10    READVILLE ST   \n",
       "3         12/20/19 3:08  2019     12      Friday     3          DAY ST   \n",
       "4         10/23/19 0:00  2019     10   Wednesday     0       GIBSON ST   \n",
       "5         11/22/19 7:50  2019     11      Friday     7       BROOKS ST   \n",
       "...                 ...   ...    ...         ...   ...             ...   \n",
       "518153    8/28/20 18:39  2020      8      Friday    18   HYDE PARK AVE   \n",
       "518154    7/30/20 15:30  2020      7    Thursday    15       GIBSON ST   \n",
       "518155      7/2/20 1:38  2020      7    Thursday     1     PASADENA RD   \n",
       "518156      6/3/20 1:15  2020      6   Wednesday     1   WASHINGTON ST   \n",
       "518157      5/3/20 0:00  2020      5      Sunday     0   GALLIVAN BLVD   \n",
       "\n",
       "              Lat       Long                     Location  \n",
       "1       42.330813 -71.051368  (42.33081300, -71.05136800)  \n",
       "2       42.239491 -71.135954  (42.23949100, -71.13595400)  \n",
       "3       42.325122 -71.107779  (42.32512200, -71.10777900)  \n",
       "4       42.297555 -71.059709  (42.29755500, -71.05970900)  \n",
       "5       42.355120 -71.162678  (42.35512000, -71.16267800)  \n",
       "...           ...        ...                          ...  \n",
       "518153  42.256215 -71.124019  (42.25621500, -71.12401900)  \n",
       "518154  42.297555 -71.059709  (42.29755500, -71.05970900)  \n",
       "518155  42.305760 -71.083771  (42.30576000, -71.08377100)  \n",
       "518156  42.323807 -71.089150  (42.32380700, -71.08915000)  \n",
       "518157  42.283700 -71.047761  (42.28370000, -71.04776100)  \n",
       "\n",
       "[488947 rows x 15 columns]"
      ]
     },
     "execution_count": 33,
     "metadata": {},
     "output_type": "execute_result"
    }
   ],
   "source": [
    "crime.dropna(subset=['Lat'])"
   ]
  },
  {
   "cell_type": "code",
   "execution_count": 34,
   "metadata": {},
   "outputs": [
    {
     "data": {
      "text/plain": [
       "(518158, 15)"
      ]
     },
     "execution_count": 34,
     "metadata": {},
     "output_type": "execute_result"
    }
   ],
   "source": [
    "crime.shape"
   ]
  },
  {
   "cell_type": "code",
   "execution_count": 35,
   "metadata": {},
   "outputs": [],
   "source": [
    "crime_new = crime.dropna(subset=['Lat'])"
   ]
  },
  {
   "cell_type": "code",
   "execution_count": 36,
   "metadata": {
    "scrolled": true
   },
   "outputs": [
    {
     "data": {
      "text/plain": [
       "(488947, 15)"
      ]
     },
     "execution_count": 36,
     "metadata": {},
     "output_type": "execute_result"
    }
   ],
   "source": [
    "crime_new.shape"
   ]
  },
  {
   "cell_type": "code",
   "execution_count": 37,
   "metadata": {},
   "outputs": [
    {
     "data": {
      "text/plain": [
       "Unnamed: 0             488947\n",
       "INCIDENT_NUMBER        441663\n",
       "OFFENSE_CODE              231\n",
       "OFFENSE_DESCRIPTION       275\n",
       "DISTRICT                   13\n",
       "SHOOTING                    3\n",
       "OCCURRED_ON_DATE       361869\n",
       "YEAR                        6\n",
       "MONTH                      12\n",
       "DAY_OF_WEEK                 7\n",
       "HOUR                       24\n",
       "STREET                   4352\n",
       "Lat                     31184\n",
       "Long                    31031\n",
       "Location                31973\n",
       "dtype: int64"
      ]
     },
     "execution_count": 37,
     "metadata": {},
     "output_type": "execute_result"
    }
   ],
   "source": [
    "crime_new.nunique()"
   ]
  },
  {
   "cell_type": "code",
   "execution_count": 38,
   "metadata": {},
   "outputs": [
    {
     "data": {
      "text/plain": [
       "Unnamed: 0                 0\n",
       "INCIDENT_NUMBER            0\n",
       "OFFENSE_CODE               0\n",
       "OFFENSE_DESCRIPTION        0\n",
       "DISTRICT                1925\n",
       "SHOOTING                   0\n",
       "OCCURRED_ON_DATE           0\n",
       "YEAR                       0\n",
       "MONTH                      0\n",
       "DAY_OF_WEEK                0\n",
       "HOUR                       0\n",
       "STREET                 10558\n",
       "Lat                        0\n",
       "Long                       0\n",
       "Location                   0\n",
       "dtype: int64"
      ]
     },
     "execution_count": 38,
     "metadata": {},
     "output_type": "execute_result"
    }
   ],
   "source": [
    "crime_new.isnull().sum()"
   ]
  },
  {
   "cell_type": "code",
   "execution_count": 39,
   "metadata": {},
   "outputs": [],
   "source": [
    "#Relationship Analysis"
   ]
  },
  {
   "cell_type": "code",
   "execution_count": 40,
   "metadata": {},
   "outputs": [],
   "source": [
    "correlation = crime_new.corr()"
   ]
  },
  {
   "cell_type": "code",
   "execution_count": 41,
   "metadata": {},
   "outputs": [
    {
     "data": {
      "text/plain": [
       "<matplotlib.axes._subplots.AxesSubplot at 0x7ffe42363a30>"
      ]
     },
     "execution_count": 41,
     "metadata": {},
     "output_type": "execute_result"
    },
    {
     "data": {
      "image/png": "[encoded data removed]",
      "text/plain": [
       "<Figure size 432x288 with 2 Axes>"
      ]
     },
     "metadata": {
      "needs_background": "light"
     },
     "output_type": "display_data"
    }
   ],
   "source": [
    "sns.heatmap(correlation,xticklabels = correlation.columns, yticklabels = correlation.columns\n",
    "           ,annot=True)"
   ]
  },
  {
   "cell_type": "code",
   "execution_count": 42,
   "metadata": {},
   "outputs": [
    {
     "data": {
      "text/plain": [
       "<seaborn.axisgrid.PairGrid at 0x7ffe42307550>"
      ]
     },
     "execution_count": 42,
     "metadata": {},
     "output_type": "execute_result"
    },
    {
     "data": {
      "image/png": "[encoded data removed]",
      "text/plain": [
       "<Figure size 1260x1260 with 56 Axes>"
      ]
     },
     "metadata": {
      "needs_background": "light"
     },
     "output_type": "display_data"
    }
   ],
   "source": [
    "sns.pairplot(crime_new)"
   ]
  },
  {
   "cell_type": "code",
   "execution_count": 45,
   "metadata": {},
   "outputs": [
    {
     "data": {
      "text/plain": [
       "<seaborn.axisgrid.FacetGrid at 0x7ffe03d60ca0>"
      ]
     },
     "execution_count": 45,
     "metadata": {},
     "output_type": "execute_result"
    },
    {
     "data": {
      "image/png": "[encoded data removed]",
      "text/plain": [
       "<Figure size 360x360 with 1 Axes>"
      ]
     },
     "metadata": {
      "needs_background": "light"
     },
     "output_type": "display_data"
    }
   ],
   "source": [
    "sns.relplot(x='MONTH', y = 'HOUR', data = crime_new)"
   ]
  },
  {
   "cell_type": "code",
   "execution_count": 46,
   "metadata": {},
   "outputs": [
    {
     "data": {
      "image/png": "[encoded data removed]",
      "text/plain": [
       "<Figure size 432x288 with 1 Axes>"
      ]
     },
     "metadata": {
      "needs_background": "light"
     },
     "output_type": "display_data"
    }
   ],
   "source": [
    "sns.countplot(crime_new['DISTRICT']);"
   ]
  },
  {
   "cell_type": "code",
   "execution_count": 47,
   "metadata": {},
   "outputs": [
    {
     "data": {
      "image/png": "[encoded data removed]",
      "text/plain": [
       "<Figure size 432x288 with 1 Axes>"
      ]
     },
     "metadata": {
      "needs_background": "light"
     },
     "output_type": "display_data"
    }
   ],
   "source": [
    "sns.countplot(crime_new['SHOOTING']);"
   ]
  },
  {
   "cell_type": "code",
   "execution_count": 49,
   "metadata": {},
   "outputs": [
    {
     "ename": "KeyError",
     "evalue": "'OFFENSE DESCRIPTION'",
     "output_type": "error",
     "traceback": [
      "\u001b[0;31m---------------------------------------------------------------------------\u001b[0m",
      "\u001b[0;31mKeyError\u001b[0m                                  Traceback (most recent call last)",
      "\u001b[0;32m~/opt/anaconda3/lib/python3.8/site-packages/pandas/core/indexes/base.py\u001b[0m in \u001b[0;36mget_loc\u001b[0;34m(self, key, method, tolerance)\u001b[0m\n\u001b[1;32m   2645\u001b[0m             \u001b[0;32mtry\u001b[0m\u001b[0;34m:\u001b[0m\u001b[0;34m\u001b[0m\u001b[0;34m\u001b[0m\u001b[0m\n\u001b[0;32m-> 2646\u001b[0;31m                 \u001b[0;32mreturn\u001b[0m \u001b[0mself\u001b[0m\u001b[0;34m.\u001b[0m\u001b[0m_engine\u001b[0m\u001b[0;34m.\u001b[0m\u001b[0mget_loc\u001b[0m\u001b[0;34m(\u001b[0m\u001b[0mkey\u001b[0m\u001b[0;34m)\u001b[0m\u001b[0;34m\u001b[0m\u001b[0;34m\u001b[0m\u001b[0m\n\u001b[0m\u001b[1;32m   2647\u001b[0m             \u001b[0;32mexcept\u001b[0m \u001b[0mKeyError\u001b[0m\u001b[0;34m:\u001b[0m\u001b[0;34m\u001b[0m\u001b[0;34m\u001b[0m\u001b[0m\n",
      "\u001b[0;32mpandas/_libs/index.pyx\u001b[0m in \u001b[0;36mpandas._libs.index.IndexEngine.get_loc\u001b[0;34m()\u001b[0m\n",
      "\u001b[0;32mpandas/_libs/index.pyx\u001b[0m in \u001b[0;36mpandas._libs.index.IndexEngine.get_loc\u001b[0;34m()\u001b[0m\n",
      "\u001b[0;32mpandas/_libs/hashtable_class_helper.pxi\u001b[0m in \u001b[0;36mpandas._libs.hashtable.PyObjectHashTable.get_item\u001b[0;34m()\u001b[0m\n",
      "\u001b[0;32mpandas/_libs/hashtable_class_helper.pxi\u001b[0m in \u001b[0;36mpandas._libs.hashtable.PyObjectHashTable.get_item\u001b[0;34m()\u001b[0m\n",
      "\u001b[0;31mKeyError\u001b[0m: 'OFFENSE DESCRIPTION'",
      "\nDuring handling of the above exception, another exception occurred:\n",
      "\u001b[0;31mKeyError\u001b[0m                                  Traceback (most recent call last)",
      "\u001b[0;32m<ipython-input-49-69e694c0dc88>\u001b[0m in \u001b[0;36m<module>\u001b[0;34m\u001b[0m\n\u001b[0;32m----> 1\u001b[0;31m \u001b[0msns\u001b[0m\u001b[0;34m.\u001b[0m\u001b[0mcountplot\u001b[0m\u001b[0;34m(\u001b[0m\u001b[0mcrime_new\u001b[0m\u001b[0;34m[\u001b[0m\u001b[0;34m'OFFENSE DESCRIPTION'\u001b[0m\u001b[0;34m]\u001b[0m\u001b[0;34m)\u001b[0m\u001b[0;34m;\u001b[0m\u001b[0;34m\u001b[0m\u001b[0;34m\u001b[0m\u001b[0m\n\u001b[0m",
      "\u001b[0;32m~/opt/anaconda3/lib/python3.8/site-packages/pandas/core/frame.py\u001b[0m in \u001b[0;36m__getitem__\u001b[0;34m(self, key)\u001b[0m\n\u001b[1;32m   2798\u001b[0m             \u001b[0;32mif\u001b[0m \u001b[0mself\u001b[0m\u001b[0;34m.\u001b[0m\u001b[0mcolumns\u001b[0m\u001b[0;34m.\u001b[0m\u001b[0mnlevels\u001b[0m \u001b[0;34m>\u001b[0m \u001b[0;36m1\u001b[0m\u001b[0;34m:\u001b[0m\u001b[0;34m\u001b[0m\u001b[0;34m\u001b[0m\u001b[0m\n\u001b[1;32m   2799\u001b[0m                 \u001b[0;32mreturn\u001b[0m \u001b[0mself\u001b[0m\u001b[0;34m.\u001b[0m\u001b[0m_getitem_multilevel\u001b[0m\u001b[0;34m(\u001b[0m\u001b[0mkey\u001b[0m\u001b[0;34m)\u001b[0m\u001b[0;34m\u001b[0m\u001b[0;34m\u001b[0m\u001b[0m\n\u001b[0;32m-> 2800\u001b[0;31m             \u001b[0mindexer\u001b[0m \u001b[0;34m=\u001b[0m \u001b[0mself\u001b[0m\u001b[0;34m.\u001b[0m\u001b[0mcolumns\u001b[0m\u001b[0;34m.\u001b[0m\u001b[0mget_loc\u001b[0m\u001b[0;34m(\u001b[0m\u001b[0mkey\u001b[0m\u001b[0;34m)\u001b[0m\u001b[0;34m\u001b[0m\u001b[0;34m\u001b[0m\u001b[0m\n\u001b[0m\u001b[1;32m   2801\u001b[0m             \u001b[0;32mif\u001b[0m \u001b[0mis_integer\u001b[0m\u001b[0;34m(\u001b[0m\u001b[0mindexer\u001b[0m\u001b[0;34m)\u001b[0m\u001b[0;34m:\u001b[0m\u001b[0;34m\u001b[0m\u001b[0;34m\u001b[0m\u001b[0m\n\u001b[1;32m   2802\u001b[0m                 \u001b[0mindexer\u001b[0m \u001b[0;34m=\u001b[0m \u001b[0;34m[\u001b[0m\u001b[0mindexer\u001b[0m\u001b[0;34m]\u001b[0m\u001b[0;34m\u001b[0m\u001b[0;34m\u001b[0m\u001b[0m\n",
      "\u001b[0;32m~/opt/anaconda3/lib/python3.8/site-packages/pandas/core/indexes/base.py\u001b[0m in \u001b[0;36mget_loc\u001b[0;34m(self, key, method, tolerance)\u001b[0m\n\u001b[1;32m   2646\u001b[0m                 \u001b[0;32mreturn\u001b[0m \u001b[0mself\u001b[0m\u001b[0;34m.\u001b[0m\u001b[0m_engine\u001b[0m\u001b[0;34m.\u001b[0m\u001b[0mget_loc\u001b[0m\u001b[0;34m(\u001b[0m\u001b[0mkey\u001b[0m\u001b[0;34m)\u001b[0m\u001b[0;34m\u001b[0m\u001b[0;34m\u001b[0m\u001b[0m\n\u001b[1;32m   2647\u001b[0m             \u001b[0;32mexcept\u001b[0m \u001b[0mKeyError\u001b[0m\u001b[0;34m:\u001b[0m\u001b[0;34m\u001b[0m\u001b[0;34m\u001b[0m\u001b[0m\n\u001b[0;32m-> 2648\u001b[0;31m                 \u001b[0;32mreturn\u001b[0m \u001b[0mself\u001b[0m\u001b[0;34m.\u001b[0m\u001b[0m_engine\u001b[0m\u001b[0;34m.\u001b[0m\u001b[0mget_loc\u001b[0m\u001b[0;34m(\u001b[0m\u001b[0mself\u001b[0m\u001b[0;34m.\u001b[0m\u001b[0m_maybe_cast_indexer\u001b[0m\u001b[0;34m(\u001b[0m\u001b[0mkey\u001b[0m\u001b[0;34m)\u001b[0m\u001b[0;34m)\u001b[0m\u001b[0;34m\u001b[0m\u001b[0;34m\u001b[0m\u001b[0m\n\u001b[0m\u001b[1;32m   2649\u001b[0m         \u001b[0mindexer\u001b[0m \u001b[0;34m=\u001b[0m \u001b[0mself\u001b[0m\u001b[0;34m.\u001b[0m\u001b[0mget_indexer\u001b[0m\u001b[0;34m(\u001b[0m\u001b[0;34m[\u001b[0m\u001b[0mkey\u001b[0m\u001b[0;34m]\u001b[0m\u001b[0;34m,\u001b[0m \u001b[0mmethod\u001b[0m\u001b[0;34m=\u001b[0m\u001b[0mmethod\u001b[0m\u001b[0;34m,\u001b[0m \u001b[0mtolerance\u001b[0m\u001b[0;34m=\u001b[0m\u001b[0mtolerance\u001b[0m\u001b[0;34m)\u001b[0m\u001b[0;34m\u001b[0m\u001b[0;34m\u001b[0m\u001b[0m\n\u001b[1;32m   2650\u001b[0m         \u001b[0;32mif\u001b[0m \u001b[0mindexer\u001b[0m\u001b[0;34m.\u001b[0m\u001b[0mndim\u001b[0m \u001b[0;34m>\u001b[0m \u001b[0;36m1\u001b[0m \u001b[0;32mor\u001b[0m \u001b[0mindexer\u001b[0m\u001b[0;34m.\u001b[0m\u001b[0msize\u001b[0m \u001b[0;34m>\u001b[0m \u001b[0;36m1\u001b[0m\u001b[0;34m:\u001b[0m\u001b[0;34m\u001b[0m\u001b[0;34m\u001b[0m\u001b[0m\n",
      "\u001b[0;32mpandas/_libs/index.pyx\u001b[0m in \u001b[0;36mpandas._libs.index.IndexEngine.get_loc\u001b[0;34m()\u001b[0m\n",
      "\u001b[0;32mpandas/_libs/index.pyx\u001b[0m in \u001b[0;36mpandas._libs.index.IndexEngine.get_loc\u001b[0;34m()\u001b[0m\n",
      "\u001b[0;32mpandas/_libs/hashtable_class_helper.pxi\u001b[0m in \u001b[0;36mpandas._libs.hashtable.PyObjectHashTable.get_item\u001b[0;34m()\u001b[0m\n",
      "\u001b[0;32mpandas/_libs/hashtable_class_helper.pxi\u001b[0m in \u001b[0;36mpandas._libs.hashtable.PyObjectHashTable.get_item\u001b[0;34m()\u001b[0m\n",
      "\u001b[0;31mKeyError\u001b[0m: 'OFFENSE DESCRIPTION'"
     ]
    }
   ],
   "source": [
    "\n"
   ]
  },
  {
   "cell_type": "code",
   "execution_count": 50,
   "metadata": {},
   "outputs": [
    {
     "data": {
      "image/png": "[encoded data removed]",
      "text/plain": [
       "<Figure size 432x288 with 1 Axes>"
      ]
     },
     "metadata": {
      "needs_background": "light"
     },
     "output_type": "display_data"
    }
   ],
   "source": [
    "sns.countplot(crime_new['YEAR']);"
   ]
  },
  {
   "cell_type": "code",
   "execution_count": 52,
   "metadata": {},
   "outputs": [
    {
     "data": {
      "image/png": "[encoded data removed]",
      "text/plain": [
       "<Figure size 432x288 with 1 Axes>"
      ]
     },
     "metadata": {
      "needs_background": "light"
     },
     "output_type": "display_data"
    }
   ],
   "source": [
    "sns.countplot(crime_new['OFFENSE_DESCRIPTION']);"
   ]
  },
  {
   "cell_type": "code",
   "execution_count": 53,
   "metadata": {},
   "outputs": [
    {
     "data": {
      "image/png": "[encoded data removed]",
      "text/plain": [
       "<Figure size 432x288 with 1 Axes>"
      ]
     },
     "metadata": {
      "needs_background": "light"
     },
     "output_type": "display_data"
    }
   ],
   "source": [
    "import pandas as pd\n",
    "import numpy as np\n",
    "import seaborn as sns"
   ]
  },
  {
   "cell_type": "code",
   "execution_count": 54,
   "metadata": {},
   "outputs": [
    {
     "data": {
      "image/png": "[encoded data removed]",
      "text/plain": [
       "<Figure size 432x288 with 1 Axes>"
      ]
     },
     "metadata": {
      "needs_background": "light"
     },
     "output_type": "display_data"
    }
   ],
   "source": [
    "\n",
    "sns.countplot(crime_new['DAY_OF_WEEK']);"
   ]
  },
  {
   "cell_type": "code",
   "execution_count": 55,
   "metadata": {},
   "outputs": [
    {
     "data": {
      "image/png": "[encoded data removed]",
      "text/plain": [
       "<Figure size 432x288 with 1 Axes>"
      ]
     },
     "metadata": {
      "needs_background": "light"
     },
     "output_type": "display_data"
    }
   ],
   "source": [
    "sns.countplot(crime_new['MONTH']);"
   ]
  },
  {
   "cell_type": "code",
   "execution_count": 56,
   "metadata": {},
   "outputs": [
    {
     "data": {
      "text/plain": [
       "<matplotlib.axes._subplots.AxesSubplot at 0x7ffe07926e50>"
      ]
     },
     "execution_count": 56,
     "metadata": {},
     "output_type": "execute_result"
    },
    {
     "data": {
      "image/png": "[encoded data removed]",
      "text/plain": [
       "<Figure size 432x288 with 1 Axes>"
      ]
     },
     "metadata": {
      "needs_background": "light"
     },
     "output_type": "display_data"
    }
   ],
   "source": [
    "sns.distplot(crime_new['OFFENSE_CODE'])"
   ]
  },
  {
   "cell_type": "code",
   "execution_count": 57,
   "metadata": {},
   "outputs": [],
   "source": [
    "import scipy.stats"
   ]
  },
  {
   "cell_type": "code",
   "execution_count": 58,
   "metadata": {},
   "outputs": [],
   "source": [
    "import matplotlib\n",
    "import matplotlib.pyplot as pp\n",
    "\n",
    "import pandas.plotting\n",
    "\n",
    "from IPython import display\n",
    "from ipywidgets import interact, widgets\n",
    "\n",
    "%matplotlib inline"
   ]
  },
  {
   "cell_type": "code",
   "execution_count": 59,
   "metadata": {},
   "outputs": [],
   "source": [
    "import re\n",
    "import mailbox\n",
    "import csv"
   ]
  },
  {
   "cell_type": "code",
   "execution_count": 60,
   "metadata": {},
   "outputs": [
    {
     "data": {
      "text/plain": [
       "<bound method DataFrame.info of         Unnamed: 0 INCIDENT_NUMBER  OFFENSE_CODE  \\\n",
       "1                2       S97333701          3301   \n",
       "2                3       S47513131          2647   \n",
       "3                4       I92102201          3301   \n",
       "4                5       I92097173          3115   \n",
       "5                6       I92094519          3126   \n",
       "...            ...             ...           ...   \n",
       "518153      518154        20062356          1107   \n",
       "518154      518155        20054040          3501   \n",
       "518155      518156        20046400          1501   \n",
       "518156      518157        20038446          1501   \n",
       "518157      518158        20030892           540   \n",
       "\n",
       "                                      OFFENSE_DESCRIPTION DISTRICT SHOOTING  \\\n",
       "1                                          VERBAL DISPUTE       C6        N   \n",
       "2                               THREATS TO DO BODILY HARM      E18        N   \n",
       "3                                          VERBAL DISPUTE      E13        N   \n",
       "4                                      INVESTIGATE PERSON      C11        N   \n",
       "5              WARRANT ARREST - OUTSIDE OF BOSTON WARRANT      D14        N   \n",
       "...                                                   ...      ...      ...   \n",
       "518153                              FRAUD - IMPERSONATION      E18        N   \n",
       "518154                                     MISSING PERSON      C11        N   \n",
       "518155  WEAPON VIOLATION - CARRY/ POSSESSING/ SALE/ TR...       B2        N   \n",
       "518156  WEAPON VIOLATION - CARRY/ POSSESSING/ SALE/ TR...       B2        N   \n",
       "518157                              BURGLARY - COMMERICAL      C11        N   \n",
       "\n",
       "       OCCURRED_ON_DATE  YEAR  MONTH DAY_OF_WEEK  HOUR          STREET  \\\n",
       "1         7/18/20 14:34  2020      7    Saturday    14  MARY BOYLE WAY   \n",
       "2         6/24/20 10:15  2020      6   Wednesday    10    READVILLE ST   \n",
       "3         12/20/19 3:08  2019     12      Friday     3          DAY ST   \n",
       "4         10/23/19 0:00  2019     10   Wednesday     0       GIBSON ST   \n",
       "5         11/22/19 7:50  2019     11      Friday     7       BROOKS ST   \n",
       "...                 ...   ...    ...         ...   ...             ...   \n",
       "518153    8/28/20 18:39  2020      8      Friday    18   HYDE PARK AVE   \n",
       "518154    7/30/20 15:30  2020      7    Thursday    15       GIBSON ST   \n",
       "518155      7/2/20 1:38  2020      7    Thursday     1     PASADENA RD   \n",
       "518156      6/3/20 1:15  2020      6   Wednesday     1   WASHINGTON ST   \n",
       "518157      5/3/20 0:00  2020      5      Sunday     0   GALLIVAN BLVD   \n",
       "\n",
       "              Lat       Long                     Location  \n",
       "1       42.330813 -71.051368  (42.33081300, -71.05136800)  \n",
       "2       42.239491 -71.135954  (42.23949100, -71.13595400)  \n",
       "3       42.325122 -71.107779  (42.32512200, -71.10777900)  \n",
       "4       42.297555 -71.059709  (42.29755500, -71.05970900)  \n",
       "5       42.355120 -71.162678  (42.35512000, -71.16267800)  \n",
       "...           ...        ...                          ...  \n",
       "518153  42.256215 -71.124019  (42.25621500, -71.12401900)  \n",
       "518154  42.297555 -71.059709  (42.29755500, -71.05970900)  \n",
       "518155  42.305760 -71.083771  (42.30576000, -71.08377100)  \n",
       "518156  42.323807 -71.089150  (42.32380700, -71.08915000)  \n",
       "518157  42.283700 -71.047761  (42.28370000, -71.04776100)  \n",
       "\n",
       "[488947 rows x 15 columns]>"
      ]
     },
     "execution_count": 60,
     "metadata": {},
     "output_type": "execute_result"
    }
   ],
   "source": [
    "crime_new.info"
   ]
  },
  {
   "cell_type": "code",
   "execution_count": 62,
   "metadata": {},
   "outputs": [
    {
     "data": {
      "text/html": [
       "<div>\n",
       "<style scoped>\n",
       "    .dataframe tbody tr th:only-of-type {\n",
       "        vertical-align: middle;\n",
       "    }\n",
       "\n",
       "    .dataframe tbody tr th {\n",
       "        vertical-align: top;\n",
       "    }\n",
       "\n",
       "    .dataframe thead th {\n",
       "        text-align: right;\n",
       "    }\n",
       "</style>\n",
       "<table border=\"1\" class=\"dataframe\">\n",
       "  <thead>\n",
       "    <tr style=\"text-align: right;\">\n",
       "      <th></th>\n",
       "      <th>DISTRICT</th>\n",
       "    </tr>\n",
       "  </thead>\n",
       "  <tbody>\n",
       "    <tr>\n",
       "      <th>B2</th>\n",
       "      <td>77261</td>\n",
       "    </tr>\n",
       "    <tr>\n",
       "      <th>C11</th>\n",
       "      <td>67560</td>\n",
       "    </tr>\n",
       "    <tr>\n",
       "      <th>D4</th>\n",
       "      <td>60888</td>\n",
       "    </tr>\n",
       "    <tr>\n",
       "      <th>B3</th>\n",
       "      <td>56955</td>\n",
       "    </tr>\n",
       "    <tr>\n",
       "      <th>A1</th>\n",
       "      <td>50800</td>\n",
       "    </tr>\n",
       "    <tr>\n",
       "      <th>C6</th>\n",
       "      <td>34711</td>\n",
       "    </tr>\n",
       "    <tr>\n",
       "      <th>D14</th>\n",
       "      <td>31429</td>\n",
       "    </tr>\n",
       "    <tr>\n",
       "      <th>E18</th>\n",
       "      <td>28039</td>\n",
       "    </tr>\n",
       "    <tr>\n",
       "      <th>E13</th>\n",
       "      <td>27301</td>\n",
       "    </tr>\n",
       "    <tr>\n",
       "      <th>E5</th>\n",
       "      <td>21542</td>\n",
       "    </tr>\n",
       "    <tr>\n",
       "      <th>A7</th>\n",
       "      <td>20456</td>\n",
       "    </tr>\n",
       "    <tr>\n",
       "      <th>A15</th>\n",
       "      <td>10045</td>\n",
       "    </tr>\n",
       "    <tr>\n",
       "      <th>External</th>\n",
       "      <td>35</td>\n",
       "    </tr>\n",
       "  </tbody>\n",
       "</table>\n",
       "</div>"
      ],
      "text/plain": [
       "          DISTRICT\n",
       "B2           77261\n",
       "C11          67560\n",
       "D4           60888\n",
       "B3           56955\n",
       "A1           50800\n",
       "C6           34711\n",
       "D14          31429\n",
       "E18          28039\n",
       "E13          27301\n",
       "E5           21542\n",
       "A7           20456\n",
       "A15          10045\n",
       "External        35"
      ]
     },
     "execution_count": 62,
     "metadata": {},
     "output_type": "execute_result"
    }
   ],
   "source": [
    "pd.DataFrame(crime_new.DISTRICT.value_counts())"
   ]
  },
  {
   "cell_type": "code",
   "execution_count": 63,
   "metadata": {},
   "outputs": [
    {
     "data": {
      "text/html": [
       "<div>\n",
       "<style scoped>\n",
       "    .dataframe tbody tr th:only-of-type {\n",
       "        vertical-align: middle;\n",
       "    }\n",
       "\n",
       "    .dataframe tbody tr th {\n",
       "        vertical-align: top;\n",
       "    }\n",
       "\n",
       "    .dataframe thead th {\n",
       "        text-align: right;\n",
       "    }\n",
       "</style>\n",
       "<table border=\"1\" class=\"dataframe\">\n",
       "  <thead>\n",
       "    <tr style=\"text-align: right;\">\n",
       "      <th></th>\n",
       "      <th>OFFENSE_DESCRIPTION</th>\n",
       "    </tr>\n",
       "  </thead>\n",
       "  <tbody>\n",
       "    <tr>\n",
       "      <th>INVESTIGATE PERSON</th>\n",
       "      <td>31142</td>\n",
       "    </tr>\n",
       "    <tr>\n",
       "      <th>SICK/INJURED/MEDICAL - PERSON</th>\n",
       "      <td>27936</td>\n",
       "    </tr>\n",
       "    <tr>\n",
       "      <th>VERBAL DISPUTE</th>\n",
       "      <td>26116</td>\n",
       "    </tr>\n",
       "    <tr>\n",
       "      <th>M/V - LEAVING SCENE - PROPERTY DAMAGE</th>\n",
       "      <td>23332</td>\n",
       "    </tr>\n",
       "    <tr>\n",
       "      <th>VANDALISM</th>\n",
       "      <td>22650</td>\n",
       "    </tr>\n",
       "    <tr>\n",
       "      <th>...</th>\n",
       "      <td>...</td>\n",
       "    </tr>\n",
       "    <tr>\n",
       "      <th>AUTO THEFT LEASE/RENT VEHICLE</th>\n",
       "      <td>1</td>\n",
       "    </tr>\n",
       "    <tr>\n",
       "      <th>B&amp;E RESIDENCE DAY - NO FORCE</th>\n",
       "      <td>1</td>\n",
       "    </tr>\n",
       "    <tr>\n",
       "      <th>AUTO THEFT - OUTSIDE - RECOVERED IN BOSTON</th>\n",
       "      <td>1</td>\n",
       "    </tr>\n",
       "    <tr>\n",
       "      <th>B&amp;E NON-RESIDENCE NIGHT - FORCE</th>\n",
       "      <td>1</td>\n",
       "    </tr>\n",
       "    <tr>\n",
       "      <th>VIOLATION - RESTRAINING ORDER</th>\n",
       "      <td>1</td>\n",
       "    </tr>\n",
       "  </tbody>\n",
       "</table>\n",
       "<p>275 rows × 1 columns</p>\n",
       "</div>"
      ],
      "text/plain": [
       "                                            OFFENSE_DESCRIPTION\n",
       "INVESTIGATE PERSON                                        31142\n",
       "SICK/INJURED/MEDICAL - PERSON                             27936\n",
       "VERBAL DISPUTE                                            26116\n",
       "M/V - LEAVING SCENE - PROPERTY DAMAGE                     23332\n",
       "VANDALISM                                                 22650\n",
       "...                                                         ...\n",
       "AUTO THEFT LEASE/RENT VEHICLE                                 1\n",
       "B&E RESIDENCE DAY - NO FORCE                                  1\n",
       "AUTO THEFT - OUTSIDE - RECOVERED IN BOSTON                    1\n",
       "B&E NON-RESIDENCE NIGHT - FORCE                               1\n",
       "VIOLATION - RESTRAINING ORDER                                 1\n",
       "\n",
       "[275 rows x 1 columns]"
      ]
     },
     "execution_count": 63,
     "metadata": {},
     "output_type": "execute_result"
    }
   ],
   "source": [
    "pd.DataFrame(crime_new.OFFENSE_DESCRIPTION.value_counts())"
   ]
  },
  {
   "cell_type": "code",
   "execution_count": 64,
   "metadata": {},
   "outputs": [
    {
     "data": {
      "text/html": [
       "<div>\n",
       "<style scoped>\n",
       "    .dataframe tbody tr th:only-of-type {\n",
       "        vertical-align: middle;\n",
       "    }\n",
       "\n",
       "    .dataframe tbody tr th {\n",
       "        vertical-align: top;\n",
       "    }\n",
       "\n",
       "    .dataframe thead th {\n",
       "        text-align: right;\n",
       "    }\n",
       "</style>\n",
       "<table border=\"1\" class=\"dataframe\">\n",
       "  <thead>\n",
       "    <tr style=\"text-align: right;\">\n",
       "      <th></th>\n",
       "      <th>SHOOTING</th>\n",
       "    </tr>\n",
       "  </thead>\n",
       "  <tbody>\n",
       "    <tr>\n",
       "      <th>UNK</th>\n",
       "      <td>397950</td>\n",
       "    </tr>\n",
       "    <tr>\n",
       "      <th>N</th>\n",
       "      <td>88247</td>\n",
       "    </tr>\n",
       "    <tr>\n",
       "      <th>Y</th>\n",
       "      <td>2750</td>\n",
       "    </tr>\n",
       "  </tbody>\n",
       "</table>\n",
       "</div>"
      ],
      "text/plain": [
       "     SHOOTING\n",
       "UNK    397950\n",
       "N       88247\n",
       "Y        2750"
      ]
     },
     "execution_count": 64,
     "metadata": {},
     "output_type": "execute_result"
    }
   ],
   "source": [
    "pd.DataFrame(crime_new.SHOOTING.value_counts())"
   ]
  },
  {
   "cell_type": "code",
   "execution_count": 67,
   "metadata": {},
   "outputs": [
    {
     "data": {
      "text/html": [
       "<div>\n",
       "<style scoped>\n",
       "    .dataframe tbody tr th:only-of-type {\n",
       "        vertical-align: middle;\n",
       "    }\n",
       "\n",
       "    .dataframe tbody tr th {\n",
       "        vertical-align: top;\n",
       "    }\n",
       "\n",
       "    .dataframe thead th {\n",
       "        text-align: right;\n",
       "    }\n",
       "</style>\n",
       "<table border=\"1\" class=\"dataframe\">\n",
       "  <thead>\n",
       "    <tr style=\"text-align: right;\">\n",
       "      <th></th>\n",
       "      <th>YEAR</th>\n",
       "    </tr>\n",
       "  </thead>\n",
       "  <tbody>\n",
       "    <tr>\n",
       "      <th>2017</th>\n",
       "      <td>0.192882</td>\n",
       "    </tr>\n",
       "    <tr>\n",
       "      <th>2019</th>\n",
       "      <td>0.190184</td>\n",
       "    </tr>\n",
       "    <tr>\n",
       "      <th>2016</th>\n",
       "      <td>0.189153</td>\n",
       "    </tr>\n",
       "    <tr>\n",
       "      <th>2018</th>\n",
       "      <td>0.189098</td>\n",
       "    </tr>\n",
       "    <tr>\n",
       "      <th>2020</th>\n",
       "      <td>0.133417</td>\n",
       "    </tr>\n",
       "    <tr>\n",
       "      <th>2015</th>\n",
       "      <td>0.105265</td>\n",
       "    </tr>\n",
       "  </tbody>\n",
       "</table>\n",
       "</div>"
      ],
      "text/plain": [
       "          YEAR\n",
       "2017  0.192882\n",
       "2019  0.190184\n",
       "2016  0.189153\n",
       "2018  0.189098\n",
       "2020  0.133417\n",
       "2015  0.105265"
      ]
     },
     "execution_count": 67,
     "metadata": {},
     "output_type": "execute_result"
    }
   ],
   "source": [
    "pd.DataFrame(crime_new.YEAR.value_counts(normalize = True))"
   ]
  },
  {
   "cell_type": "code",
   "execution_count": 66,
   "metadata": {},
   "outputs": [
    {
     "data": {
      "text/html": [
       "<div>\n",
       "<style scoped>\n",
       "    .dataframe tbody tr th:only-of-type {\n",
       "        vertical-align: middle;\n",
       "    }\n",
       "\n",
       "    .dataframe tbody tr th {\n",
       "        vertical-align: top;\n",
       "    }\n",
       "\n",
       "    .dataframe thead th {\n",
       "        text-align: right;\n",
       "    }\n",
       "</style>\n",
       "<table border=\"1\" class=\"dataframe\">\n",
       "  <thead>\n",
       "    <tr style=\"text-align: right;\">\n",
       "      <th></th>\n",
       "      <th>HOUR</th>\n",
       "    </tr>\n",
       "  </thead>\n",
       "  <tbody>\n",
       "    <tr>\n",
       "      <th>17</th>\n",
       "      <td>31083</td>\n",
       "    </tr>\n",
       "    <tr>\n",
       "      <th>16</th>\n",
       "      <td>30365</td>\n",
       "    </tr>\n",
       "    <tr>\n",
       "      <th>18</th>\n",
       "      <td>30304</td>\n",
       "    </tr>\n",
       "    <tr>\n",
       "      <th>12</th>\n",
       "      <td>28885</td>\n",
       "    </tr>\n",
       "    <tr>\n",
       "      <th>19</th>\n",
       "      <td>26744</td>\n",
       "    </tr>\n",
       "    <tr>\n",
       "      <th>14</th>\n",
       "      <td>26322</td>\n",
       "    </tr>\n",
       "    <tr>\n",
       "      <th>13</th>\n",
       "      <td>25849</td>\n",
       "    </tr>\n",
       "    <tr>\n",
       "      <th>0</th>\n",
       "      <td>25435</td>\n",
       "    </tr>\n",
       "    <tr>\n",
       "      <th>15</th>\n",
       "      <td>25401</td>\n",
       "    </tr>\n",
       "    <tr>\n",
       "      <th>11</th>\n",
       "      <td>25167</td>\n",
       "    </tr>\n",
       "    <tr>\n",
       "      <th>10</th>\n",
       "      <td>24777</td>\n",
       "    </tr>\n",
       "    <tr>\n",
       "      <th>20</th>\n",
       "      <td>24471</td>\n",
       "    </tr>\n",
       "    <tr>\n",
       "      <th>9</th>\n",
       "      <td>22508</td>\n",
       "    </tr>\n",
       "    <tr>\n",
       "      <th>21</th>\n",
       "      <td>22007</td>\n",
       "    </tr>\n",
       "    <tr>\n",
       "      <th>22</th>\n",
       "      <td>20061</td>\n",
       "    </tr>\n",
       "    <tr>\n",
       "      <th>8</th>\n",
       "      <td>19691</td>\n",
       "    </tr>\n",
       "    <tr>\n",
       "      <th>23</th>\n",
       "      <td>16286</td>\n",
       "    </tr>\n",
       "    <tr>\n",
       "      <th>1</th>\n",
       "      <td>13779</td>\n",
       "    </tr>\n",
       "    <tr>\n",
       "      <th>7</th>\n",
       "      <td>13444</td>\n",
       "    </tr>\n",
       "    <tr>\n",
       "      <th>2</th>\n",
       "      <td>11421</td>\n",
       "    </tr>\n",
       "    <tr>\n",
       "      <th>6</th>\n",
       "      <td>7554</td>\n",
       "    </tr>\n",
       "    <tr>\n",
       "      <th>3</th>\n",
       "      <td>6971</td>\n",
       "    </tr>\n",
       "    <tr>\n",
       "      <th>4</th>\n",
       "      <td>5238</td>\n",
       "    </tr>\n",
       "    <tr>\n",
       "      <th>5</th>\n",
       "      <td>5184</td>\n",
       "    </tr>\n",
       "  </tbody>\n",
       "</table>\n",
       "</div>"
      ],
      "text/plain": [
       "     HOUR\n",
       "17  31083\n",
       "16  30365\n",
       "18  30304\n",
       "12  28885\n",
       "19  26744\n",
       "14  26322\n",
       "13  25849\n",
       "0   25435\n",
       "15  25401\n",
       "11  25167\n",
       "10  24777\n",
       "20  24471\n",
       "9   22508\n",
       "21  22007\n",
       "22  20061\n",
       "8   19691\n",
       "23  16286\n",
       "1   13779\n",
       "7   13444\n",
       "2   11421\n",
       "6    7554\n",
       "3    6971\n",
       "4    5238\n",
       "5    5184"
      ]
     },
     "execution_count": 66,
     "metadata": {},
     "output_type": "execute_result"
    }
   ],
   "source": [
    "pd.DataFrame(crime_new.HOUR.value_counts())"
   ]
  },
  {
   "cell_type": "code",
   "execution_count": 71,
   "metadata": {},
   "outputs": [
    {
     "data": {
      "text/plain": [
       "YEAR  DISTRICT\n",
       "2015  B2          8266\n",
       "      C11         7073\n",
       "      D4          6965\n",
       "      A1          5801\n",
       "      B3          5450\n",
       "                  ... \n",
       "2020  E13         3743\n",
       "      E5          3224\n",
       "      A7          3017\n",
       "      A15         1258\n",
       "      External      23\n",
       "Name: DISTRICT, Length: 74, dtype: int64"
      ]
     },
     "execution_count": 71,
     "metadata": {},
     "output_type": "execute_result"
    }
   ],
   "source": [
    "#can use group by to break down even further such as seeing which district has experienced increase in crime every year\n",
    "\n",
    "byyear = crime_new.groupby(\"YEAR\").DISTRICT.value_counts()\n",
    "byyear"
   ]
  },
  {
   "cell_type": "code",
   "execution_count": 73,
   "metadata": {},
   "outputs": [
    {
     "data": {
      "text/plain": [
       "MultiIndex([(2015,       'B2'),\n",
       "            (2015,      'C11'),\n",
       "            (2015,       'D4'),\n",
       "            (2015,       'A1'),\n",
       "            (2015,       'B3'),\n",
       "            (2015,       'C6'),\n",
       "            (2015,      'D14'),\n",
       "            (2015,      'E13'),\n",
       "            (2015,      'E18'),\n",
       "            (2015,       'A7'),\n",
       "            (2015,       'E5'),\n",
       "            (2015,      'A15'),\n",
       "            (2016,       'B2'),\n",
       "            (2016,      'C11'),\n",
       "            (2016,       'D4'),\n",
       "            (2016,       'B3'),\n",
       "            (2016,       'A1'),\n",
       "            (2016,       'C6'),\n",
       "            (2016,      'D14'),\n",
       "            (2016,      'E13'),\n",
       "            (2016,      'E18'),\n",
       "            (2016,       'E5'),\n",
       "            (2016,       'A7'),\n",
       "            (2016,      'A15'),\n",
       "            (2017,       'B2'),\n",
       "            (2017,      'C11'),\n",
       "            (2017,       'D4'),\n",
       "            (2017,       'B3'),\n",
       "            (2017,       'A1'),\n",
       "            (2017,       'C6'),\n",
       "            (2017,      'D14'),\n",
       "            (2017,      'E18'),\n",
       "            (2017,      'E13'),\n",
       "            (2017,       'E5'),\n",
       "            (2017,       'A7'),\n",
       "            (2017,      'A15'),\n",
       "            (2018,       'B2'),\n",
       "            (2018,      'C11'),\n",
       "            (2018,       'D4'),\n",
       "            (2018,       'B3'),\n",
       "            (2018,       'A1'),\n",
       "            (2018,       'C6'),\n",
       "            (2018,      'D14'),\n",
       "            (2018,      'E18'),\n",
       "            (2018,      'E13'),\n",
       "            (2018,       'E5'),\n",
       "            (2018,       'A7'),\n",
       "            (2018,      'A15'),\n",
       "            (2019,       'B2'),\n",
       "            (2019,      'C11'),\n",
       "            (2019,       'D4'),\n",
       "            (2019,       'B3'),\n",
       "            (2019,       'A1'),\n",
       "            (2019,       'C6'),\n",
       "            (2019,      'D14'),\n",
       "            (2019,      'E18'),\n",
       "            (2019,      'E13'),\n",
       "            (2019,       'E5'),\n",
       "            (2019,       'A7'),\n",
       "            (2019,      'A15'),\n",
       "            (2019, 'External'),\n",
       "            (2020,       'B2'),\n",
       "            (2020,      'C11'),\n",
       "            (2020,       'B3'),\n",
       "            (2020,       'D4'),\n",
       "            (2020,       'A1'),\n",
       "            (2020,      'D14'),\n",
       "            (2020,       'C6'),\n",
       "            (2020,      'E18'),\n",
       "            (2020,      'E13'),\n",
       "            (2020,       'E5'),\n",
       "            (2020,       'A7'),\n",
       "            (2020,      'A15'),\n",
       "            (2020, 'External')],\n",
       "           names=['YEAR', 'DISTRICT'])"
      ]
     },
     "execution_count": 73,
     "metadata": {},
     "output_type": "execute_result"
    }
   ],
   "source": [
    "byyear.index"
   ]
  },
  {
   "cell_type": "code",
   "execution_count": 74,
   "metadata": {},
   "outputs": [
    {
     "data": {
      "text/plain": [
       "<bound method Series.unstack of YEAR  DISTRICT\n",
       "2015  B2          8266\n",
       "      C11         7073\n",
       "      D4          6965\n",
       "      A1          5801\n",
       "      B3          5450\n",
       "                  ... \n",
       "2020  E13         3743\n",
       "      E5          3224\n",
       "      A7          3017\n",
       "      A15         1258\n",
       "      External      23\n",
       "Name: DISTRICT, Length: 74, dtype: int64>"
      ]
     },
     "execution_count": 74,
     "metadata": {},
     "output_type": "execute_result"
    }
   ],
   "source": [
    "byyear.unstack"
   ]
  },
  {
   "cell_type": "code",
   "execution_count": 78,
   "metadata": {},
   "outputs": [],
   "source": [
    "crime_new.to_csv(r'/Users/ridhimasaxena/Desktop/BigDataAnalytics/FinalProject/BCD_cleanest.csv')"
   ]
  },
  {
   "cell_type": "code",
   "execution_count": 120,
   "metadata": {},
   "outputs": [],
   "source": [
    "byseason = crime_new.groupby(\"SEASON\").SEASON.value_counts()"
   ]
  },
  {
   "cell_type": "code",
   "execution_count": 127,
   "metadata": {},
   "outputs": [
    {
     "data": {
      "text/html": [
       "<div>\n",
       "<style scoped>\n",
       "    .dataframe tbody tr th:only-of-type {\n",
       "        vertical-align: middle;\n",
       "    }\n",
       "\n",
       "    .dataframe tbody tr th {\n",
       "        vertical-align: top;\n",
       "    }\n",
       "\n",
       "    .dataframe thead th {\n",
       "        text-align: right;\n",
       "    }\n",
       "</style>\n",
       "<table border=\"1\" class=\"dataframe\">\n",
       "  <thead>\n",
       "    <tr style=\"text-align: right;\">\n",
       "      <th></th>\n",
       "      <th>Unnamed: 0</th>\n",
       "      <th>INCIDENT_NUMBER</th>\n",
       "      <th>OFFENSE_CODE</th>\n",
       "      <th>OFFENSE_DESCRIPTION</th>\n",
       "      <th>DISTRICT</th>\n",
       "      <th>SHOOTING</th>\n",
       "      <th>OCCURRED_ON_DATE</th>\n",
       "      <th>YEAR</th>\n",
       "      <th>SEASON</th>\n",
       "      <th>DAY_OF_WEEK</th>\n",
       "      <th>HOUR</th>\n",
       "      <th>STREET</th>\n",
       "      <th>Lat</th>\n",
       "      <th>Long</th>\n",
       "      <th>Location</th>\n",
       "    </tr>\n",
       "  </thead>\n",
       "  <tbody>\n",
       "    <tr>\n",
       "      <th>1</th>\n",
       "      <td>2</td>\n",
       "      <td>S97333701</td>\n",
       "      <td>3301</td>\n",
       "      <td>VERBAL DISPUTE</td>\n",
       "      <td>C6</td>\n",
       "      <td>N</td>\n",
       "      <td>7/18/20 14:34</td>\n",
       "      <td>2020</td>\n",
       "      <td>Winter</td>\n",
       "      <td>Saturday</td>\n",
       "      <td>14</td>\n",
       "      <td>MARY BOYLE WAY</td>\n",
       "      <td>42.330813</td>\n",
       "      <td>-71.051368</td>\n",
       "      <td>(42.33081300, -71.05136800)</td>\n",
       "    </tr>\n",
       "    <tr>\n",
       "      <th>2</th>\n",
       "      <td>3</td>\n",
       "      <td>S47513131</td>\n",
       "      <td>2647</td>\n",
       "      <td>THREATS TO DO BODILY HARM</td>\n",
       "      <td>E18</td>\n",
       "      <td>N</td>\n",
       "      <td>6/24/20 10:15</td>\n",
       "      <td>2020</td>\n",
       "      <td>Spring</td>\n",
       "      <td>Wednesday</td>\n",
       "      <td>10</td>\n",
       "      <td>READVILLE ST</td>\n",
       "      <td>42.239491</td>\n",
       "      <td>-71.135954</td>\n",
       "      <td>(42.23949100, -71.13595400)</td>\n",
       "    </tr>\n",
       "    <tr>\n",
       "      <th>3</th>\n",
       "      <td>4</td>\n",
       "      <td>I92102201</td>\n",
       "      <td>3301</td>\n",
       "      <td>VERBAL DISPUTE</td>\n",
       "      <td>E13</td>\n",
       "      <td>N</td>\n",
       "      <td>12/20/19 3:08</td>\n",
       "      <td>2019</td>\n",
       "      <td>Fall</td>\n",
       "      <td>Friday</td>\n",
       "      <td>3</td>\n",
       "      <td>DAY ST</td>\n",
       "      <td>42.325122</td>\n",
       "      <td>-71.107779</td>\n",
       "      <td>(42.32512200, -71.10777900)</td>\n",
       "    </tr>\n",
       "    <tr>\n",
       "      <th>4</th>\n",
       "      <td>5</td>\n",
       "      <td>I92097173</td>\n",
       "      <td>3115</td>\n",
       "      <td>INVESTIGATE PERSON</td>\n",
       "      <td>C11</td>\n",
       "      <td>N</td>\n",
       "      <td>10/23/19 0:00</td>\n",
       "      <td>2019</td>\n",
       "      <td>Fall</td>\n",
       "      <td>Wednesday</td>\n",
       "      <td>0</td>\n",
       "      <td>GIBSON ST</td>\n",
       "      <td>42.297555</td>\n",
       "      <td>-71.059709</td>\n",
       "      <td>(42.29755500, -71.05970900)</td>\n",
       "    </tr>\n",
       "    <tr>\n",
       "      <th>5</th>\n",
       "      <td>6</td>\n",
       "      <td>I92094519</td>\n",
       "      <td>3126</td>\n",
       "      <td>WARRANT ARREST - OUTSIDE OF BOSTON WARRANT</td>\n",
       "      <td>D14</td>\n",
       "      <td>N</td>\n",
       "      <td>11/22/19 7:50</td>\n",
       "      <td>2019</td>\n",
       "      <td>Fall</td>\n",
       "      <td>Friday</td>\n",
       "      <td>7</td>\n",
       "      <td>BROOKS ST</td>\n",
       "      <td>42.355120</td>\n",
       "      <td>-71.162678</td>\n",
       "      <td>(42.35512000, -71.16267800)</td>\n",
       "    </tr>\n",
       "  </tbody>\n",
       "</table>\n",
       "</div>"
      ],
      "text/plain": [
       "   Unnamed: 0 INCIDENT_NUMBER  OFFENSE_CODE  \\\n",
       "1           2       S97333701          3301   \n",
       "2           3       S47513131          2647   \n",
       "3           4       I92102201          3301   \n",
       "4           5       I92097173          3115   \n",
       "5           6       I92094519          3126   \n",
       "\n",
       "                          OFFENSE_DESCRIPTION DISTRICT SHOOTING  \\\n",
       "1                              VERBAL DISPUTE       C6        N   \n",
       "2                   THREATS TO DO BODILY HARM      E18        N   \n",
       "3                              VERBAL DISPUTE      E13        N   \n",
       "4                          INVESTIGATE PERSON      C11        N   \n",
       "5  WARRANT ARREST - OUTSIDE OF BOSTON WARRANT      D14        N   \n",
       "\n",
       "  OCCURRED_ON_DATE  YEAR  SEASON DAY_OF_WEEK  HOUR          STREET        Lat  \\\n",
       "1    7/18/20 14:34  2020  Winter    Saturday    14  MARY BOYLE WAY  42.330813   \n",
       "2    6/24/20 10:15  2020  Spring   Wednesday    10    READVILLE ST  42.239491   \n",
       "3    12/20/19 3:08  2019    Fall      Friday     3          DAY ST  42.325122   \n",
       "4    10/23/19 0:00  2019    Fall   Wednesday     0       GIBSON ST  42.297555   \n",
       "5    11/22/19 7:50  2019    Fall      Friday     7       BROOKS ST  42.355120   \n",
       "\n",
       "        Long                     Location  \n",
       "1 -71.051368  (42.33081300, -71.05136800)  \n",
       "2 -71.135954  (42.23949100, -71.13595400)  \n",
       "3 -71.107779  (42.32512200, -71.10777900)  \n",
       "4 -71.059709  (42.29755500, -71.05970900)  \n",
       "5 -71.162678  (42.35512000, -71.16267800)  "
      ]
     },
     "execution_count": 127,
     "metadata": {},
     "output_type": "execute_result"
    }
   ],
   "source": [
    "crime_new.head()\n"
   ]
  },
  {
   "cell_type": "code",
   "execution_count": 121,
   "metadata": {},
   "outputs": [
    {
     "data": {
      "text/plain": [
       "SEASON  SEASON\n",
       "1       1         157144\n",
       "2       2         119289\n",
       "3       3          97735\n",
       "4       4         114779\n",
       "Name: SEASON, dtype: int64"
      ]
     },
     "execution_count": 121,
     "metadata": {},
     "output_type": "execute_result"
    }
   ],
   "source": [
    "byseason"
   ]
  },
  {
   "cell_type": "code",
   "execution_count": 119,
   "metadata": {},
   "outputs": [
    {
     "name": "stderr",
     "output_type": "stream",
     "text": [
      "/Users/ridhimasaxena/opt/anaconda3/lib/python3.8/site-packages/pandas/core/generic.py:6746: SettingWithCopyWarning: \n",
      "A value is trying to be set on a copy of a slice from a DataFrame\n",
      "\n",
      "See the caveats in the documentation: https://pandas.pydata.org/pandas-docs/stable/user_guide/indexing.html#returning-a-view-versus-a-copy\n",
      "  self._update_inplace(new_data)\n"
     ]
    }
   ],
   "source": [
    "crime_new['SEASON'].replace('1',1, inplace =True)"
   ]
  },
  {
   "cell_type": "code",
   "execution_count": 160,
   "metadata": {},
   "outputs": [],
   "source": [
    "byhour = crime_new.groupby(\"HOUR\").HOUR.value_counts()"
   ]
  },
  {
   "cell_type": "code",
   "execution_count": 161,
   "metadata": {},
   "outputs": [
    {
     "data": {
      "text/plain": [
       "HOUR           HOUR         \n",
       "Afternoon      Afternoon        139020\n",
       "Early Morning  Early Morning     37409\n",
       "Evening        Evening          103526\n",
       "Morning        Morning          147210\n",
       "Night          Night             61782\n",
       "Name: HOUR, dtype: int64"
      ]
     },
     "execution_count": 161,
     "metadata": {},
     "output_type": "execute_result"
    }
   ],
   "source": [
    "byhour"
   ]
  },
  {
   "cell_type": "code",
   "execution_count": 126,
   "metadata": {},
   "outputs": [
    {
     "name": "stderr",
     "output_type": "stream",
     "text": [
      "/Users/ridhimasaxena/opt/anaconda3/lib/python3.8/site-packages/pandas/core/generic.py:6746: SettingWithCopyWarning: \n",
      "A value is trying to be set on a copy of a slice from a DataFrame\n",
      "\n",
      "See the caveats in the documentation: https://pandas.pydata.org/pandas-docs/stable/user_guide/indexing.html#returning-a-view-versus-a-copy\n",
      "  self._update_inplace(new_data)\n"
     ]
    }
   ],
   "source": [
    "crime_new['SEASON'].replace(2,\"Spring\", inplace =True)\n",
    "crime_new['SEASON'].replace(3,\"Summer\", inplace =True)\n",
    "crime_new['SEASON'].replace(4,\"Fall\", inplace =True)"
   ]
  },
  {
   "cell_type": "code",
   "execution_count": 159,
   "metadata": {},
   "outputs": [],
   "source": [
    "crime_new['HOUR'].replace(1,'Early Morning', inplace =True)\n",
    "crime_new['HOUR'].replace(2,'Morning', inplace =True)\n",
    "crime_new['HOUR'].replace(3,'Afternoon', inplace =True)\n",
    "crime_new['HOUR'].replace(4,'Evening', inplace =True)\n",
    "crime_new['HOUR'].replace(5,'Night', inplace =True)\n"
   ]
  },
  {
   "cell_type": "code",
   "execution_count": 162,
   "metadata": {},
   "outputs": [
    {
     "data": {
      "text/html": [
       "<div>\n",
       "<style scoped>\n",
       "    .dataframe tbody tr th:only-of-type {\n",
       "        vertical-align: middle;\n",
       "    }\n",
       "\n",
       "    .dataframe tbody tr th {\n",
       "        vertical-align: top;\n",
       "    }\n",
       "\n",
       "    .dataframe thead th {\n",
       "        text-align: right;\n",
       "    }\n",
       "</style>\n",
       "<table border=\"1\" class=\"dataframe\">\n",
       "  <thead>\n",
       "    <tr style=\"text-align: right;\">\n",
       "      <th></th>\n",
       "      <th>Unnamed: 0</th>\n",
       "      <th>INCIDENT_NUMBER</th>\n",
       "      <th>OFFENSE_CODE</th>\n",
       "      <th>OFFENSE_DESCRIPTION</th>\n",
       "      <th>DISTRICT</th>\n",
       "      <th>SHOOTING</th>\n",
       "      <th>OCCURRED_ON_DATE</th>\n",
       "      <th>YEAR</th>\n",
       "      <th>SEASON</th>\n",
       "      <th>DAY_OF_WEEK</th>\n",
       "      <th>HOUR</th>\n",
       "      <th>STREET</th>\n",
       "      <th>Lat</th>\n",
       "      <th>Long</th>\n",
       "      <th>Location</th>\n",
       "    </tr>\n",
       "  </thead>\n",
       "  <tbody>\n",
       "    <tr>\n",
       "      <th>1</th>\n",
       "      <td>2</td>\n",
       "      <td>S97333701</td>\n",
       "      <td>3301</td>\n",
       "      <td>VERBAL DISPUTE</td>\n",
       "      <td>C6</td>\n",
       "      <td>N</td>\n",
       "      <td>7/18/20 14:34</td>\n",
       "      <td>2020</td>\n",
       "      <td>Winter</td>\n",
       "      <td>Saturday</td>\n",
       "      <td>Afternoon</td>\n",
       "      <td>MARY BOYLE WAY</td>\n",
       "      <td>42.330813</td>\n",
       "      <td>-71.051368</td>\n",
       "      <td>(42.33081300, -71.05136800)</td>\n",
       "    </tr>\n",
       "    <tr>\n",
       "      <th>2</th>\n",
       "      <td>3</td>\n",
       "      <td>S47513131</td>\n",
       "      <td>2647</td>\n",
       "      <td>THREATS TO DO BODILY HARM</td>\n",
       "      <td>E18</td>\n",
       "      <td>N</td>\n",
       "      <td>6/24/20 10:15</td>\n",
       "      <td>2020</td>\n",
       "      <td>Spring</td>\n",
       "      <td>Wednesday</td>\n",
       "      <td>Morning</td>\n",
       "      <td>READVILLE ST</td>\n",
       "      <td>42.239491</td>\n",
       "      <td>-71.135954</td>\n",
       "      <td>(42.23949100, -71.13595400)</td>\n",
       "    </tr>\n",
       "    <tr>\n",
       "      <th>3</th>\n",
       "      <td>4</td>\n",
       "      <td>I92102201</td>\n",
       "      <td>3301</td>\n",
       "      <td>VERBAL DISPUTE</td>\n",
       "      <td>E13</td>\n",
       "      <td>N</td>\n",
       "      <td>12/20/19 3:08</td>\n",
       "      <td>2019</td>\n",
       "      <td>Fall</td>\n",
       "      <td>Friday</td>\n",
       "      <td>Early Morning</td>\n",
       "      <td>DAY ST</td>\n",
       "      <td>42.325122</td>\n",
       "      <td>-71.107779</td>\n",
       "      <td>(42.32512200, -71.10777900)</td>\n",
       "    </tr>\n",
       "    <tr>\n",
       "      <th>4</th>\n",
       "      <td>5</td>\n",
       "      <td>I92097173</td>\n",
       "      <td>3115</td>\n",
       "      <td>INVESTIGATE PERSON</td>\n",
       "      <td>C11</td>\n",
       "      <td>N</td>\n",
       "      <td>10/23/19 0:00</td>\n",
       "      <td>2019</td>\n",
       "      <td>Fall</td>\n",
       "      <td>Wednesday</td>\n",
       "      <td>Night</td>\n",
       "      <td>GIBSON ST</td>\n",
       "      <td>42.297555</td>\n",
       "      <td>-71.059709</td>\n",
       "      <td>(42.29755500, -71.05970900)</td>\n",
       "    </tr>\n",
       "    <tr>\n",
       "      <th>5</th>\n",
       "      <td>6</td>\n",
       "      <td>I92094519</td>\n",
       "      <td>3126</td>\n",
       "      <td>WARRANT ARREST - OUTSIDE OF BOSTON WARRANT</td>\n",
       "      <td>D14</td>\n",
       "      <td>N</td>\n",
       "      <td>11/22/19 7:50</td>\n",
       "      <td>2019</td>\n",
       "      <td>Fall</td>\n",
       "      <td>Friday</td>\n",
       "      <td>Morning</td>\n",
       "      <td>BROOKS ST</td>\n",
       "      <td>42.355120</td>\n",
       "      <td>-71.162678</td>\n",
       "      <td>(42.35512000, -71.16267800)</td>\n",
       "    </tr>\n",
       "  </tbody>\n",
       "</table>\n",
       "</div>"
      ],
      "text/plain": [
       "   Unnamed: 0 INCIDENT_NUMBER  OFFENSE_CODE  \\\n",
       "1           2       S97333701          3301   \n",
       "2           3       S47513131          2647   \n",
       "3           4       I92102201          3301   \n",
       "4           5       I92097173          3115   \n",
       "5           6       I92094519          3126   \n",
       "\n",
       "                          OFFENSE_DESCRIPTION DISTRICT SHOOTING  \\\n",
       "1                              VERBAL DISPUTE       C6        N   \n",
       "2                   THREATS TO DO BODILY HARM      E18        N   \n",
       "3                              VERBAL DISPUTE      E13        N   \n",
       "4                          INVESTIGATE PERSON      C11        N   \n",
       "5  WARRANT ARREST - OUTSIDE OF BOSTON WARRANT      D14        N   \n",
       "\n",
       "  OCCURRED_ON_DATE  YEAR  SEASON DAY_OF_WEEK           HOUR          STREET  \\\n",
       "1    7/18/20 14:34  2020  Winter    Saturday      Afternoon  MARY BOYLE WAY   \n",
       "2    6/24/20 10:15  2020  Spring   Wednesday        Morning    READVILLE ST   \n",
       "3    12/20/19 3:08  2019    Fall      Friday  Early Morning          DAY ST   \n",
       "4    10/23/19 0:00  2019    Fall   Wednesday          Night       GIBSON ST   \n",
       "5    11/22/19 7:50  2019    Fall      Friday        Morning       BROOKS ST   \n",
       "\n",
       "         Lat       Long                     Location  \n",
       "1  42.330813 -71.051368  (42.33081300, -71.05136800)  \n",
       "2  42.239491 -71.135954  (42.23949100, -71.13595400)  \n",
       "3  42.325122 -71.107779  (42.32512200, -71.10777900)  \n",
       "4  42.297555 -71.059709  (42.29755500, -71.05970900)  \n",
       "5  42.355120 -71.162678  (42.35512000, -71.16267800)  "
      ]
     },
     "execution_count": 162,
     "metadata": {},
     "output_type": "execute_result"
    }
   ],
   "source": [
    "crime_new.head()"
   ]
  },
  {
   "cell_type": "code",
   "execution_count": 163,
   "metadata": {},
   "outputs": [
    {
     "data": {
      "text/plain": [
       "Unnamed: 0               int64\n",
       "INCIDENT_NUMBER         object\n",
       "OFFENSE_CODE             int64\n",
       "OFFENSE_DESCRIPTION     object\n",
       "DISTRICT                object\n",
       "SHOOTING                object\n",
       "OCCURRED_ON_DATE        object\n",
       "YEAR                     int64\n",
       "SEASON                  object\n",
       "DAY_OF_WEEK             object\n",
       "HOUR                    object\n",
       "STREET                  object\n",
       "Lat                    float64\n",
       "Long                   float64\n",
       "Location                object\n",
       "dtype: object"
      ]
     },
     "execution_count": 163,
     "metadata": {},
     "output_type": "execute_result"
    }
   ],
   "source": [
    "crime_new.dtypes"
   ]
  },
  {
   "cell_type": "code",
   "execution_count": 164,
   "metadata": {},
   "outputs": [],
   "source": [
    "crime_new.to_csv(r'/Users/ridhimasaxena/Desktop/BigDataAnalytics/FinalProject/BCD_Grouped.csv')"
   ]
  },
  {
   "cell_type": "code",
   "execution_count": null,
   "metadata": {},
   "outputs": [],
   "source": []
  }
 ],
 "metadata": {
  "kernelspec": {
   "display_name": "Python 3",
   "language": "python",
   "name": "python3"
  },
  "language_info": {
   "codemirror_mode": {
    "name": "ipython",
    "version": 3
   },
   "file_extension": ".py",
   "mimetype": "text/x-python",
   "name": "python",
   "nbconvert_exporter": "python",
   "pygments_lexer": "ipython3",
   "version": "3.8.3"
  }
 },
 "nbformat": 4,
 "nbformat_minor": 4
}
